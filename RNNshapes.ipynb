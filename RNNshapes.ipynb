{
 "cells": [
  {
   "cell_type": "code",
   "execution_count": 1,
   "metadata": {},
   "outputs": [],
   "source": [
    "import tensorflow as tf\n",
    "import pandas as pd\n",
    "import numpy as np \n",
    "import matplotlib.pyplot as plt\n",
    "from tensorflow.keras.layers import Input, Dense, Flatten, SimpleRNN\n",
    "from tensorflow.keras.models import Model\n",
    "from tensorflow.keras.optimizers import SGD, Adam"
   ]
  },
  {
   "cell_type": "markdown",
   "metadata": {},
   "source": [
    "N = number of samples  \n",
    "T = sequence length  \n",
    "D = number of input features  \n",
    "M = number of hidden units  \n",
    "K = number of output units\n"
   ]
  },
  {
   "cell_type": "code",
   "execution_count": 2,
   "metadata": {},
   "outputs": [],
   "source": [
    "#some data\n",
    "N=1\n",
    "T=10\n",
    "D=3\n",
    "K=2\n",
    "X=np.random.randn(N,T,D)"
   ]
  },
  {
   "cell_type": "code",
   "execution_count": 3,
   "metadata": {},
   "outputs": [],
   "source": [
    "M=5\n",
    "i=Input(shape=(T,D))\n",
    "x=SimpleRNN(M)(i)\n",
    "x=Dense(K)(x)\n",
    "model=Model(i,x)"
   ]
  },
  {
   "cell_type": "code",
   "execution_count": 5,
   "metadata": {},
   "outputs": [
    {
     "name": "stdout",
     "output_type": "stream",
     "text": [
      "1/1 [==============================] - 0s 39ms/step\n",
      "[[ 0.3902549 -0.6023844]]\n"
     ]
    }
   ],
   "source": [
    "Yhat=model.predict(X)\n",
    "print(Yhat)"
   ]
  },
  {
   "cell_type": "markdown",
   "metadata": {},
   "source": [
    "here the values wont make sense its just for sanity testing and undertanding the rnn "
   ]
  },
  {
   "cell_type": "code",
   "execution_count": 6,
   "metadata": {},
   "outputs": [
    {
     "name": "stdout",
     "output_type": "stream",
     "text": [
      "Model: \"model\"\n",
      "_________________________________________________________________\n",
      " Layer (type)                Output Shape              Param #   \n",
      "=================================================================\n",
      " input_1 (InputLayer)        [(None, 10, 3)]           0         \n",
      "                                                                 \n",
      " simple_rnn (SimpleRNN)      (None, 5)                 45        \n",
      "                                                                 \n",
      " dense (Dense)               (None, 2)                 12        \n",
      "                                                                 \n",
      "=================================================================\n",
      "Total params: 57\n",
      "Trainable params: 57\n",
      "Non-trainable params: 0\n",
      "_________________________________________________________________\n"
     ]
    }
   ],
   "source": [
    "model.summary()"
   ]
  },
  {
   "cell_type": "code",
   "execution_count": 7,
   "metadata": {},
   "outputs": [
    {
     "data": {
      "text/plain": [
       "[array([[-0.54372066,  0.4035254 ,  0.4197561 ,  0.6702351 ,  0.35536247],\n",
       "        [ 0.5276417 ,  0.0191769 ,  0.242562  ,  0.33618492,  0.04705995],\n",
       "        [-0.07148343, -0.34342706,  0.6613652 , -0.50900614,  0.8236061 ]],\n",
       "       dtype=float32),\n",
       " array([[ 0.6575103 , -0.13291807, -0.59840655, -0.433106  ,  0.06589173],\n",
       "        [-0.28618214, -0.3380685 ,  0.33169562, -0.7272118 ,  0.40614098],\n",
       "        [-0.5172418 ,  0.09003003, -0.385112  , -0.38066864, -0.65660906],\n",
       "        [-0.4661347 , -0.14073884, -0.6189569 ,  0.2746628 ,  0.55169165],\n",
       "        [ 0.03097378, -0.9165858 ,  0.02164863,  0.25146335, -0.30855885]],\n",
       "       dtype=float32),\n",
       " array([0., 0., 0., 0., 0.], dtype=float32)]"
      ]
     },
     "execution_count": 7,
     "metadata": {},
     "output_type": "execute_result"
    }
   ],
   "source": [
    "model.layers[1].get_weights()"
   ]
  },
  {
   "cell_type": "code",
   "execution_count": 8,
   "metadata": {},
   "outputs": [
    {
     "name": "stdout",
     "output_type": "stream",
     "text": [
      "(3, 5) (5, 5) (5,)\n"
     ]
    }
   ],
   "source": [
    "a,b,c=model.layers[1].get_weights()\n",
    "print(a.shape, b.shape, c.shape)"
   ]
  },
  {
   "cell_type": "code",
   "execution_count": 9,
   "metadata": {},
   "outputs": [],
   "source": [
    "Wx,Wh,bh=model.layers[1].get_weights()\n",
    "Wo,bo=model.layers[2].get_weights()"
   ]
  },
  {
   "cell_type": "code",
   "execution_count": 11,
   "metadata": {},
   "outputs": [
    {
     "name": "stdout",
     "output_type": "stream",
     "text": [
      "[ 0.39027161 -0.60236823]\n"
     ]
    }
   ],
   "source": [
    "h_last=np.zeros(M)\n",
    "x=X[0]\n",
    "Yhats=[]\n",
    "for t in range (T):\n",
    "    h=np.tanh(x[t].dot(Wx)+h_last.dot(Wh)+bh)\n",
    "    y=h.dot(Wo)+bo\n",
    "    Yhats.append(y)\n",
    "    h_last=h\n",
    "print(Yhats[-1])"
   ]
  },
  {
   "cell_type": "code",
   "execution_count": null,
   "metadata": {},
   "outputs": [],
   "source": []
  }
 ],
 "metadata": {
  "kernelspec": {
   "display_name": "tfGpu",
   "language": "python",
   "name": "python3"
  },
  "language_info": {
   "codemirror_mode": {
    "name": "ipython",
    "version": 3
   },
   "file_extension": ".py",
   "mimetype": "text/x-python",
   "name": "python",
   "nbconvert_exporter": "python",
   "pygments_lexer": "ipython3",
   "version": "3.10.14"
  }
 },
 "nbformat": 4,
 "nbformat_minor": 2
}
