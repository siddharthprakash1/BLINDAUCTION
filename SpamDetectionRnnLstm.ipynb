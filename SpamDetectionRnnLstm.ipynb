{
 "cells": [
  {
   "cell_type": "code",
   "execution_count": 11,
   "metadata": {},
   "outputs": [],
   "source": [
    "import tensorflow as tf\n",
    "import numpy as np \n",
    "import pandas as pd\n",
    "import matplotlib.pyplot as plt\n",
    "from sklearn.model_selection import train_test_split\n",
    "from tensorflow.keras.preprocessing.sequence import pad_sequences\n",
    "from tensorflow.keras.preprocessing.text import Tokenizer\n",
    "from tensorflow.keras.layers import Dense, Input, GlobalMaxPooling1D, LSTM, Embedding\n",
    "from tensorflow.keras.models import Model"
   ]
  },
  {
   "cell_type": "code",
   "execution_count": 12,
   "metadata": {},
   "outputs": [
    {
     "name": "stderr",
     "output_type": "stream",
     "text": [
      "'wget' is not recognized as an internal or external command,\n",
      "operable program or batch file.\n"
     ]
    }
   ],
   "source": [
    "!wget -nc https://lazyprogrammer.me/course_files/spam.csv"
   ]
  },
  {
   "cell_type": "code",
   "execution_count": 13,
   "metadata": {},
   "outputs": [],
   "source": [
    "df=pd.read_csv('spam.csv', encoding=\"ISO-8859-1\")"
   ]
  },
  {
   "cell_type": "code",
   "execution_count": 14,
   "metadata": {},
   "outputs": [
    {
     "data": {
      "text/html": [
       "<div>\n",
       "<style scoped>\n",
       "    .dataframe tbody tr th:only-of-type {\n",
       "        vertical-align: middle;\n",
       "    }\n",
       "\n",
       "    .dataframe tbody tr th {\n",
       "        vertical-align: top;\n",
       "    }\n",
       "\n",
       "    .dataframe thead th {\n",
       "        text-align: right;\n",
       "    }\n",
       "</style>\n",
       "<table border=\"1\" class=\"dataframe\">\n",
       "  <thead>\n",
       "    <tr style=\"text-align: right;\">\n",
       "      <th></th>\n",
       "      <th>v1</th>\n",
       "      <th>v2</th>\n",
       "      <th>Unnamed: 2</th>\n",
       "      <th>Unnamed: 3</th>\n",
       "      <th>Unnamed: 4</th>\n",
       "    </tr>\n",
       "  </thead>\n",
       "  <tbody>\n",
       "    <tr>\n",
       "      <th>0</th>\n",
       "      <td>ham</td>\n",
       "      <td>Go until jurong point, crazy.. Available only ...</td>\n",
       "      <td>NaN</td>\n",
       "      <td>NaN</td>\n",
       "      <td>NaN</td>\n",
       "    </tr>\n",
       "    <tr>\n",
       "      <th>1</th>\n",
       "      <td>ham</td>\n",
       "      <td>Ok lar... Joking wif u oni...</td>\n",
       "      <td>NaN</td>\n",
       "      <td>NaN</td>\n",
       "      <td>NaN</td>\n",
       "    </tr>\n",
       "    <tr>\n",
       "      <th>2</th>\n",
       "      <td>spam</td>\n",
       "      <td>Free entry in 2 a wkly comp to win FA Cup fina...</td>\n",
       "      <td>NaN</td>\n",
       "      <td>NaN</td>\n",
       "      <td>NaN</td>\n",
       "    </tr>\n",
       "    <tr>\n",
       "      <th>3</th>\n",
       "      <td>ham</td>\n",
       "      <td>U dun say so early hor... U c already then say...</td>\n",
       "      <td>NaN</td>\n",
       "      <td>NaN</td>\n",
       "      <td>NaN</td>\n",
       "    </tr>\n",
       "    <tr>\n",
       "      <th>4</th>\n",
       "      <td>ham</td>\n",
       "      <td>Nah I don't think he goes to usf, he lives aro...</td>\n",
       "      <td>NaN</td>\n",
       "      <td>NaN</td>\n",
       "      <td>NaN</td>\n",
       "    </tr>\n",
       "  </tbody>\n",
       "</table>\n",
       "</div>"
      ],
      "text/plain": [
       "     v1                                                 v2 Unnamed: 2  \\\n",
       "0   ham  Go until jurong point, crazy.. Available only ...        NaN   \n",
       "1   ham                      Ok lar... Joking wif u oni...        NaN   \n",
       "2  spam  Free entry in 2 a wkly comp to win FA Cup fina...        NaN   \n",
       "3   ham  U dun say so early hor... U c already then say...        NaN   \n",
       "4   ham  Nah I don't think he goes to usf, he lives aro...        NaN   \n",
       "\n",
       "  Unnamed: 3 Unnamed: 4  \n",
       "0        NaN        NaN  \n",
       "1        NaN        NaN  \n",
       "2        NaN        NaN  \n",
       "3        NaN        NaN  \n",
       "4        NaN        NaN  "
      ]
     },
     "execution_count": 14,
     "metadata": {},
     "output_type": "execute_result"
    }
   ],
   "source": [
    "df.head()"
   ]
  },
  {
   "cell_type": "code",
   "execution_count": 15,
   "metadata": {},
   "outputs": [],
   "source": [
    "df=df.drop([\"Unnamed: 2\",\"Unnamed: 3\",\"Unnamed: 4\"],axis=1)"
   ]
  },
  {
   "cell_type": "code",
   "execution_count": 16,
   "metadata": {},
   "outputs": [
    {
     "data": {
      "text/html": [
       "<div>\n",
       "<style scoped>\n",
       "    .dataframe tbody tr th:only-of-type {\n",
       "        vertical-align: middle;\n",
       "    }\n",
       "\n",
       "    .dataframe tbody tr th {\n",
       "        vertical-align: top;\n",
       "    }\n",
       "\n",
       "    .dataframe thead th {\n",
       "        text-align: right;\n",
       "    }\n",
       "</style>\n",
       "<table border=\"1\" class=\"dataframe\">\n",
       "  <thead>\n",
       "    <tr style=\"text-align: right;\">\n",
       "      <th></th>\n",
       "      <th>v1</th>\n",
       "      <th>v2</th>\n",
       "    </tr>\n",
       "  </thead>\n",
       "  <tbody>\n",
       "    <tr>\n",
       "      <th>0</th>\n",
       "      <td>ham</td>\n",
       "      <td>Go until jurong point, crazy.. Available only ...</td>\n",
       "    </tr>\n",
       "    <tr>\n",
       "      <th>1</th>\n",
       "      <td>ham</td>\n",
       "      <td>Ok lar... Joking wif u oni...</td>\n",
       "    </tr>\n",
       "    <tr>\n",
       "      <th>2</th>\n",
       "      <td>spam</td>\n",
       "      <td>Free entry in 2 a wkly comp to win FA Cup fina...</td>\n",
       "    </tr>\n",
       "    <tr>\n",
       "      <th>3</th>\n",
       "      <td>ham</td>\n",
       "      <td>U dun say so early hor... U c already then say...</td>\n",
       "    </tr>\n",
       "    <tr>\n",
       "      <th>4</th>\n",
       "      <td>ham</td>\n",
       "      <td>Nah I don't think he goes to usf, he lives aro...</td>\n",
       "    </tr>\n",
       "  </tbody>\n",
       "</table>\n",
       "</div>"
      ],
      "text/plain": [
       "     v1                                                 v2\n",
       "0   ham  Go until jurong point, crazy.. Available only ...\n",
       "1   ham                      Ok lar... Joking wif u oni...\n",
       "2  spam  Free entry in 2 a wkly comp to win FA Cup fina...\n",
       "3   ham  U dun say so early hor... U c already then say...\n",
       "4   ham  Nah I don't think he goes to usf, he lives aro..."
      ]
     },
     "execution_count": 16,
     "metadata": {},
     "output_type": "execute_result"
    }
   ],
   "source": [
    "df.head()"
   ]
  },
  {
   "cell_type": "code",
   "execution_count": 17,
   "metadata": {},
   "outputs": [],
   "source": [
    "df.columns=[\"Label\",\"data\"]"
   ]
  },
  {
   "cell_type": "code",
   "execution_count": 18,
   "metadata": {},
   "outputs": [
    {
     "data": {
      "text/html": [
       "<div>\n",
       "<style scoped>\n",
       "    .dataframe tbody tr th:only-of-type {\n",
       "        vertical-align: middle;\n",
       "    }\n",
       "\n",
       "    .dataframe tbody tr th {\n",
       "        vertical-align: top;\n",
       "    }\n",
       "\n",
       "    .dataframe thead th {\n",
       "        text-align: right;\n",
       "    }\n",
       "</style>\n",
       "<table border=\"1\" class=\"dataframe\">\n",
       "  <thead>\n",
       "    <tr style=\"text-align: right;\">\n",
       "      <th></th>\n",
       "      <th>Label</th>\n",
       "      <th>data</th>\n",
       "    </tr>\n",
       "  </thead>\n",
       "  <tbody>\n",
       "    <tr>\n",
       "      <th>0</th>\n",
       "      <td>ham</td>\n",
       "      <td>Go until jurong point, crazy.. Available only ...</td>\n",
       "    </tr>\n",
       "    <tr>\n",
       "      <th>1</th>\n",
       "      <td>ham</td>\n",
       "      <td>Ok lar... Joking wif u oni...</td>\n",
       "    </tr>\n",
       "    <tr>\n",
       "      <th>2</th>\n",
       "      <td>spam</td>\n",
       "      <td>Free entry in 2 a wkly comp to win FA Cup fina...</td>\n",
       "    </tr>\n",
       "    <tr>\n",
       "      <th>3</th>\n",
       "      <td>ham</td>\n",
       "      <td>U dun say so early hor... U c already then say...</td>\n",
       "    </tr>\n",
       "    <tr>\n",
       "      <th>4</th>\n",
       "      <td>ham</td>\n",
       "      <td>Nah I don't think he goes to usf, he lives aro...</td>\n",
       "    </tr>\n",
       "  </tbody>\n",
       "</table>\n",
       "</div>"
      ],
      "text/plain": [
       "  Label                                               data\n",
       "0   ham  Go until jurong point, crazy.. Available only ...\n",
       "1   ham                      Ok lar... Joking wif u oni...\n",
       "2  spam  Free entry in 2 a wkly comp to win FA Cup fina...\n",
       "3   ham  U dun say so early hor... U c already then say...\n",
       "4   ham  Nah I don't think he goes to usf, he lives aro..."
      ]
     },
     "execution_count": 18,
     "metadata": {},
     "output_type": "execute_result"
    }
   ],
   "source": [
    "df.head()"
   ]
  },
  {
   "cell_type": "code",
   "execution_count": 19,
   "metadata": {},
   "outputs": [],
   "source": [
    "#creating binary label\n",
    "df['b_labels'] = df['Label'].map({'ham': 0, 'spam': 1})\n",
    "Y = df['b_labels'].values"
   ]
  },
  {
   "cell_type": "code",
   "execution_count": 20,
   "metadata": {},
   "outputs": [],
   "source": [
    "df_train,df_test,Ytrain,Ytest=train_test_split(df['data'],Y,test_size=0.33)"
   ]
  },
  {
   "cell_type": "code",
   "execution_count": 21,
   "metadata": {},
   "outputs": [],
   "source": [
    "MAX_VOCAB_SIZE=20000\n",
    "tokenizer=Tokenizer(num_words=MAX_VOCAB_SIZE)\n",
    "tokenizer.fit_on_texts(df_train)\n",
    "sequences_train=tokenizer.texts_to_sequences(df_train)\n",
    "sequences_test=tokenizer.texts_to_sequences(df_test)"
   ]
  },
  {
   "cell_type": "code",
   "execution_count": 22,
   "metadata": {},
   "outputs": [
    {
     "name": "stdout",
     "output_type": "stream",
     "text": [
      "Found 7199 unique tokens.\n"
     ]
    }
   ],
   "source": [
    "word2idx=tokenizer.word_index\n",
    "V=len(word2idx)\n",
    "print('Found %s unique tokens.' % V)\n"
   ]
  },
  {
   "cell_type": "code",
   "execution_count": 23,
   "metadata": {},
   "outputs": [
    {
     "name": "stdout",
     "output_type": "stream",
     "text": [
      "Shape of data train tensor: (3733, 121)\n"
     ]
    }
   ],
   "source": [
    "#now we need to pad sequences so that we get a nxt matrix\n",
    "data_train=pad_sequences(sequences_train)\n",
    "print('Shape of data train tensor:',data_train.shape)\n",
    "T=data_train.shape[1]"
   ]
  },
  {
   "cell_type": "code",
   "execution_count": 26,
   "metadata": {},
   "outputs": [
    {
     "name": "stdout",
     "output_type": "stream",
     "text": [
      "Shape of data test tensor: (1839, 121)\n"
     ]
    }
   ],
   "source": [
    "data_test = pad_sequences(sequences_test, maxlen=T)\n",
    "print('Shape of data test tensor:', data_test.shape)"
   ]
  },
  {
   "cell_type": "code",
   "execution_count": 27,
   "metadata": {},
   "outputs": [],
   "source": [
    "#creating the model\n",
    "D=20\n",
    "#hidden state dimension\n",
    "M=15\n",
    "\n",
    "#the size of the embedding should be (V+1)xD coz the 1st index is from 1 and not 0 \n",
    "#thus if final index is V  then actual index would be V+1\n",
    "\n",
    "i=Input(shape=(T,))\n",
    "x=Embedding(V+1,D)(i)\n",
    "x=LSTM(M, return_sequences=True)(x)\n",
    "x=GlobalMaxPooling1D()(x)\n",
    "x=Dense(1, activation='sigmoid')(x)\n",
    "\n",
    "model=Model(i,x)"
   ]
  },
  {
   "cell_type": "code",
   "execution_count": 28,
   "metadata": {},
   "outputs": [
    {
     "name": "stdout",
     "output_type": "stream",
     "text": [
      "Training Model......\n",
      "Epoch 1/10\n",
      "117/117 [==============================] - 9s 20ms/step - loss: 0.4533 - accuracy: 0.8610 - val_loss: 0.3889 - val_accuracy: 0.8684\n",
      "Epoch 2/10\n",
      "117/117 [==============================] - 2s 16ms/step - loss: 0.3936 - accuracy: 0.8647 - val_loss: 0.3768 - val_accuracy: 0.8684\n",
      "Epoch 3/10\n",
      "117/117 [==============================] - 2s 16ms/step - loss: 0.3358 - accuracy: 0.8647 - val_loss: 0.2915 - val_accuracy: 0.8684\n",
      "Epoch 4/10\n",
      "117/117 [==============================] - 2s 17ms/step - loss: 0.2490 - accuracy: 0.8682 - val_loss: 0.1865 - val_accuracy: 0.9337\n",
      "Epoch 5/10\n",
      "117/117 [==============================] - 2s 16ms/step - loss: 0.1381 - accuracy: 0.9796 - val_loss: 0.1144 - val_accuracy: 0.9859\n",
      "Epoch 6/10\n",
      "117/117 [==============================] - 2s 17ms/step - loss: 0.0778 - accuracy: 0.9904 - val_loss: 0.0812 - val_accuracy: 0.9859\n",
      "Epoch 7/10\n",
      "117/117 [==============================] - 2s 17ms/step - loss: 0.0484 - accuracy: 0.9936 - val_loss: 0.0679 - val_accuracy: 0.9875\n",
      "Epoch 8/10\n",
      "117/117 [==============================] - 2s 17ms/step - loss: 0.0327 - accuracy: 0.9979 - val_loss: 0.0612 - val_accuracy: 0.9875\n",
      "Epoch 9/10\n",
      "117/117 [==============================] - 2s 16ms/step - loss: 0.0232 - accuracy: 0.9987 - val_loss: 0.0587 - val_accuracy: 0.9859\n",
      "Epoch 10/10\n",
      "117/117 [==============================] - 2s 16ms/step - loss: 0.0171 - accuracy: 0.9992 - val_loss: 0.0575 - val_accuracy: 0.9869\n"
     ]
    }
   ],
   "source": [
    "model.compile(\n",
    "    loss='binary_crossentropy',\n",
    "    optimizer='adam',\n",
    "    metrics=['accuracy']\n",
    ")\n",
    "\n",
    "print('Training Model......')\n",
    "r=model.fit(\n",
    "    data_train,\n",
    "    Ytrain,\n",
    "    epochs=10,\n",
    "    validation_data=(data_test,Ytest)\n",
    ")"
   ]
  },
  {
   "cell_type": "code",
   "execution_count": 29,
   "metadata": {},
   "outputs": [
    {
     "data": {
      "text/plain": [
       "<matplotlib.legend.Legend at 0x2303f7a3f70>"
      ]
     },
     "execution_count": 29,
     "metadata": {},
     "output_type": "execute_result"
    },
    {
     "data": {
      "image/png": "[encoded data removed]",
      "text/plain": [
       "<Figure size 640x480 with 1 Axes>"
      ]
     },
     "metadata": {},
     "output_type": "display_data"
    }
   ],
   "source": [
    "import matplotlib.pyplot as plt \n",
    "plt.plot(r.history['loss'], label='loss')\n",
    "plt.plot(r.history['val_loss'],label='val_loss')\n",
    "plt.legend()"
   ]
  },
  {
   "cell_type": "code",
   "execution_count": 30,
   "metadata": {},
   "outputs": [
    {
     "data": {
      "text/plain": [
       "<matplotlib.legend.Legend at 0x22f0ca2f9d0>"
      ]
     },
     "execution_count": 30,
     "metadata": {},
     "output_type": "execute_result"
    },
    {
     "data": {
      "image/png": "[encoded data removed]",
      "text/plain": [
       "<Figure size 640x480 with 1 Axes>"
      ]
     },
     "metadata": {},
     "output_type": "display_data"
    }
   ],
   "source": [
    "plt.plot(r.history['accuracy'],label='acc')\n",
    "plt.plot(r.history['val_accuracy'],label='val_acc')\n",
    "plt.legend()"
   ]
  },
  {
   "cell_type": "code",
   "execution_count": 33,
   "metadata": {},
   "outputs": [
    {
     "name": "stdout",
     "output_type": "stream",
     "text": [
      "58/58 [==============================] - 0s 8ms/step\n",
      "Some examples of classification results:\n",
      "                                                   Text Actual Label  \\\n",
      "58                               Tell where you reached          ham   \n",
      "2047  No de. But call me after some time. Ill tell y...          ham   \n",
      "1031                                  Yup bathe liao...          ham   \n",
      "2178  I don,t think so. You don't need to be going o...          ham   \n",
      "3931                     Sos! Any amount i can get pls.          ham   \n",
      "1313            How abt making some of the pics bigger?          ham   \n",
      "472   Nothing. I meant that once the money enters yo...          ham   \n",
      "719   Macha dont feel upset.i can assume your mindse...          ham   \n",
      "1675  Painful words- \\I thought being Happy was the ...          ham   \n",
      "2919  Thanx 4 the time weåÕve spent 2geva, its bin m...          ham   \n",
      "\n",
      "     Predicted Label  \n",
      "58               ham  \n",
      "2047             ham  \n",
      "1031             ham  \n",
      "2178             ham  \n",
      "3931             ham  \n",
      "1313             ham  \n",
      "472              ham  \n",
      "719              ham  \n",
      "1675             ham  \n",
      "2919             ham  \n",
      "Text: How did you find out in a way that didn't include all of these details\n",
      "Actual Label: ham\n",
      "Predicted Label: ham\n",
      "--------------------------------------------------\n",
      "Text: Camera - You are awarded a SiPix Digital Camera! call 09061221066 fromm landline. Delivery within 28 days\n",
      "Actual Label: spam\n",
      "Predicted Label: spam\n",
      "--------------------------------------------------\n",
      "Text: You have 1 new voicemail. Please call 08719181503\n",
      "Actual Label: spam\n",
      "Predicted Label: spam\n",
      "--------------------------------------------------\n",
      "Text: Thinkin about someone is all good. No drugs for that\n",
      "Actual Label: ham\n",
      "Predicted Label: ham\n",
      "--------------------------------------------------\n",
      "Text: I am sorry it hurt you.\n",
      "Actual Label: ham\n",
      "Predicted Label: ham\n",
      "--------------------------------------------------\n",
      "Text: Neither [in sterm voice] - i'm studying. All fine with me! Not sure the  thing will be resolved, tho. Anyway. Have a fab hols\n",
      "Actual Label: ham\n",
      "Predicted Label: ham\n",
      "--------------------------------------------------\n",
      "Text: Oh my God. I'm almost home\n",
      "Actual Label: ham\n",
      "Predicted Label: ham\n",
      "--------------------------------------------------\n",
      "Text: A gram usually runs like  &lt;#&gt; , a half eighth is smarter though and gets you almost a whole second gram for  &lt;#&gt;\n",
      "Actual Label: ham\n",
      "Predicted Label: ham\n",
      "--------------------------------------------------\n",
      "Text: K:)k:)good:)study well.\n",
      "Actual Label: ham\n",
      "Predicted Label: ham\n",
      "--------------------------------------------------\n",
      "Text: Wen ur lovable bcums angry wid u, dnt take it seriously.. Coz being angry is d most childish n true way of showing deep affection, care n luv!.. kettoda manda... Have nice day da.\n",
      "Actual Label: ham\n",
      "Predicted Label: ham\n",
      "--------------------------------------------------\n"
     ]
    }
   ],
   "source": [
    "# Make predictions on the test set\n",
    "predictions = model.predict(data_test)\n",
    "predictions = (predictions > 0.4).astype(int)\n",
    "\n",
    "# Convert predictions and actual values to labels\n",
    "predicted_labels = predictions.flatten()\n",
    "actual_labels = Ytest\n",
    "\n",
    "# Create a DataFrame to hold the test data, actual labels, and predicted labels\n",
    "results = pd.DataFrame({\n",
    "    'Text': df_test,\n",
    "    'Actual Label': actual_labels,\n",
    "    'Predicted Label': predicted_labels\n",
    "})\n",
    "\n",
    "# Map numeric labels back to original 'ham'/'spam' labels\n",
    "label_map = {0: 'ham', 1: 'spam'}\n",
    "results['Actual Label'] = results['Actual Label'].map(label_map)\n",
    "results['Predicted Label'] = results['Predicted Label'].map(label_map)\n",
    "\n",
    "# Display a few examples\n",
    "print(\"Some examples of classification results:\")\n",
    "print(results.sample(10))  # Display 10 random samples\n",
    "\n",
    "# Visualize the results using matplotlib\n",
    "def visualize_predictions(results, num_samples=10):\n",
    "    sample_results = results.sample(num_samples)\n",
    "    for i, row in sample_results.iterrows():\n",
    "        print(f\"Text: {row['Text']}\")\n",
    "        print(f\"Actual Label: {row['Actual Label']}\")\n",
    "        print(f\"Predicted Label: {row['Predicted Label']}\")\n",
    "        print('-' * 50)\n",
    "\n",
    "# Call the function to visualize predictions\n",
    "visualize_predictions(results)\n"
   ]
  }
 ],
 "metadata": {
  "kernelspec": {
   "display_name": "tfGpu",
   "language": "python",
   "name": "python3"
  },
  "language_info": {
   "codemirror_mode": {
    "name": "ipython",
    "version": 3
   },
   "file_extension": ".py",
   "mimetype": "text/x-python",
   "name": "python",
   "nbconvert_exporter": "python",
   "pygments_lexer": "ipython3",
   "version": "3.10.14"
  }
 },
 "nbformat": 4,
 "nbformat_minor": 2
}
