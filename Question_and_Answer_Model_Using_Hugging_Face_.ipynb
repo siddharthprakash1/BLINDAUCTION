{
  "nbformat": 4,
  "nbformat_minor": 0,
  "metadata": {
    "colab": {
      "provenance": [],
      "authorship_tag": "ABX9TyP8+vYjcVvMiq5UVq0C2VXM",
      "include_colab_link": true
    },
    "kernelspec": {
      "name": "python3",
      "display_name": "Python 3"
    },
    "language_info": {
      "name": "python"
    },
    "widgets": {
      "application/vnd.jupyter.widget-state+json": {
        "38524d9b62014a52bc1e9d6062835056": {
          "model_module": "@jupyter-widgets/controls",
          "model_name": "HBoxModel",
          "model_module_version": "1.5.0",
          "state": {
            "_dom_classes": [],
            "_model_module": "@jupyter-widgets/controls",
            "_model_module_version": "1.5.0",
            "_model_name": "HBoxModel",
            "_view_count": null,
            "_view_module": "@jupyter-widgets/controls",
            "_view_module_version": "1.5.0",
            "_view_name": "HBoxView",
            "box_style": "",
            "children": [
              "IPY_MODEL_5d66c8e5611148f1817999d58dc98815",
              "IPY_MODEL_98f75be1c15c4071841ca1e0ea152884",
              "IPY_MODEL_957ae842e1bd4ac597dc9b693e3c8f80"
            ],
            "layout": "IPY_MODEL_a853c0d9e9f74420887b78259a012241"
          }
        },
        "5d66c8e5611148f1817999d58dc98815": {
          "model_module": "@jupyter-widgets/controls",
          "model_name": "HTMLModel",
          "model_module_version": "1.5.0",
          "state": {
            "_dom_classes": [],
            "_model_module": "@jupyter-widgets/controls",
            "_model_module_version": "1.5.0",
            "_model_name": "HTMLModel",
            "_view_count": null,
            "_view_module": "@jupyter-widgets/controls",
            "_view_module_version": "1.5.0",
            "_view_name": "HTMLView",
            "description": "",
            "description_tooltip": null,
            "layout": "IPY_MODEL_f34a1c1bc0144f85a8d82b7c456fd100",
            "placeholder": "​",
            "style": "IPY_MODEL_3f745ba1655344dba3c3ed4210619b49",
            "value": "config.json: 100%"
          }
        },
        "98f75be1c15c4071841ca1e0ea152884": {
          "model_module": "@jupyter-widgets/controls",
          "model_name": "FloatProgressModel",
          "model_module_version": "1.5.0",
          "state": {
            "_dom_classes": [],
            "_model_module": "@jupyter-widgets/controls",
            "_model_module_version": "1.5.0",
            "_model_name": "FloatProgressModel",
            "_view_count": null,
            "_view_module": "@jupyter-widgets/controls",
            "_view_module_version": "1.5.0",
            "_view_name": "ProgressView",
            "bar_style": "success",
            "description": "",
            "description_tooltip": null,
            "layout": "IPY_MODEL_8ecc6eb747f545798bf1748109f29b73",
            "max": 508,
            "min": 0,
            "orientation": "horizontal",
            "style": "IPY_MODEL_447eae201f89444c8016e918c7511209",
            "value": 508
          }
        },
        "957ae842e1bd4ac597dc9b693e3c8f80": {
          "model_module": "@jupyter-widgets/controls",
          "model_name": "HTMLModel",
          "model_module_version": "1.5.0",
          "state": {
            "_dom_classes": [],
            "_model_module": "@jupyter-widgets/controls",
            "_model_module_version": "1.5.0",
            "_model_name": "HTMLModel",
            "_view_count": null,
            "_view_module": "@jupyter-widgets/controls",
            "_view_module_version": "1.5.0",
            "_view_name": "HTMLView",
            "description": "",
            "description_tooltip": null,
            "layout": "IPY_MODEL_4af60c207c414061a72d75e399989dbd",
            "placeholder": "​",
            "style": "IPY_MODEL_baa116449dc74172a67c08e02bff8bdf",
            "value": " 508/508 [00:00&lt;00:00, 24.6kB/s]"
          }
        },
        "a853c0d9e9f74420887b78259a012241": {
          "model_module": "@jupyter-widgets/base",
          "model_name": "LayoutModel",
          "model_module_version": "1.2.0",
          "state": {
            "_model_module": "@jupyter-widgets/base",
            "_model_module_version": "1.2.0",
            "_model_name": "LayoutModel",
            "_view_count": null,
            "_view_module": "@jupyter-widgets/base",
            "_view_module_version": "1.2.0",
            "_view_name": "LayoutView",
            "align_content": null,
            "align_items": null,
            "align_self": null,
            "border": null,
            "bottom": null,
            "display": null,
            "flex": null,
            "flex_flow": null,
            "grid_area": null,
            "grid_auto_columns": null,
            "grid_auto_flow": null,
            "grid_auto_rows": null,
            "grid_column": null,
            "grid_gap": null,
            "grid_row": null,
            "grid_template_areas": null,
            "grid_template_columns": null,
            "grid_template_rows": null,
            "height": null,
            "justify_content": null,
            "justify_items": null,
            "left": null,
            "margin": null,
            "max_height": null,
            "max_width": null,
            "min_height": null,
            "min_width": null,
            "object_fit": null,
            "object_position": null,
            "order": null,
            "overflow": null,
            "overflow_x": null,
            "overflow_y": null,
            "padding": null,
            "right": null,
            "top": null,
            "visibility": null,
            "width": null
          }
        },
        "f34a1c1bc0144f85a8d82b7c456fd100": {
          "model_module": "@jupyter-widgets/base",
          "model_name": "LayoutModel",
          "model_module_version": "1.2.0",
          "state": {
            "_model_module": "@jupyter-widgets/base",
            "_model_module_version": "1.2.0",
            "_model_name": "LayoutModel",
            "_view_count": null,
            "_view_module": "@jupyter-widgets/base",
            "_view_module_version": "1.2.0",
            "_view_name": "LayoutView",
            "align_content": null,
            "align_items": null,
            "align_self": null,
            "border": null,
            "bottom": null,
            "display": null,
            "flex": null,
            "flex_flow": null,
            "grid_area": null,
            "grid_auto_columns": null,
            "grid_auto_flow": null,
            "grid_auto_rows": null,
            "grid_column": null,
            "grid_gap": null,
            "grid_row": null,
            "grid_template_areas": null,
            "grid_template_columns": null,
            "grid_template_rows": null,
            "height": null,
            "justify_content": null,
            "justify_items": null,
            "left": null,
            "margin": null,
            "max_height": null,
            "max_width": null,
            "min_height": null,
            "min_width": null,
            "object_fit": null,
            "object_position": null,
            "order": null,
            "overflow": null,
            "overflow_x": null,
            "overflow_y": null,
            "padding": null,
            "right": null,
            "top": null,
            "visibility": null,
            "width": null
          }
        },
        "3f745ba1655344dba3c3ed4210619b49": {
          "model_module": "@jupyter-widgets/controls",
          "model_name": "DescriptionStyleModel",
          "model_module_version": "1.5.0",
          "state": {
            "_model_module": "@jupyter-widgets/controls",
            "_model_module_version": "1.5.0",
            "_model_name": "DescriptionStyleModel",
            "_view_count": null,
            "_view_module": "@jupyter-widgets/base",
            "_view_module_version": "1.2.0",
            "_view_name": "StyleView",
            "description_width": ""
          }
        },
        "8ecc6eb747f545798bf1748109f29b73": {
          "model_module": "@jupyter-widgets/base",
          "model_name": "LayoutModel",
          "model_module_version": "1.2.0",
          "state": {
            "_model_module": "@jupyter-widgets/base",
            "_model_module_version": "1.2.0",
            "_model_name": "LayoutModel",
            "_view_count": null,
            "_view_module": "@jupyter-widgets/base",
            "_view_module_version": "1.2.0",
            "_view_name": "LayoutView",
            "align_content": null,
            "align_items": null,
            "align_self": null,
            "border": null,
            "bottom": null,
            "display": null,
            "flex": null,
            "flex_flow": null,
            "grid_area": null,
            "grid_auto_columns": null,
            "grid_auto_flow": null,
            "grid_auto_rows": null,
            "grid_column": null,
            "grid_gap": null,
            "grid_row": null,
            "grid_template_areas": null,
            "grid_template_columns": null,
            "grid_template_rows": null,
            "height": null,
            "justify_content": null,
            "justify_items": null,
            "left": null,
            "margin": null,
            "max_height": null,
            "max_width": null,
            "min_height": null,
            "min_width": null,
            "object_fit": null,
            "object_position": null,
            "order": null,
            "overflow": null,
            "overflow_x": null,
            "overflow_y": null,
            "padding": null,
            "right": null,
            "top": null,
            "visibility": null,
            "width": null
          }
        },
        "447eae201f89444c8016e918c7511209": {
          "model_module": "@jupyter-widgets/controls",
          "model_name": "ProgressStyleModel",
          "model_module_version": "1.5.0",
          "state": {
            "_model_module": "@jupyter-widgets/controls",
            "_model_module_version": "1.5.0",
            "_model_name": "ProgressStyleModel",
            "_view_count": null,
            "_view_module": "@jupyter-widgets/base",
            "_view_module_version": "1.2.0",
            "_view_name": "StyleView",
            "bar_color": null,
            "description_width": ""
          }
        },
        "4af60c207c414061a72d75e399989dbd": {
          "model_module": "@jupyter-widgets/base",
          "model_name": "LayoutModel",
          "model_module_version": "1.2.0",
          "state": {
            "_model_module": "@jupyter-widgets/base",
            "_model_module_version": "1.2.0",
            "_model_name": "LayoutModel",
            "_view_count": null,
            "_view_module": "@jupyter-widgets/base",
            "_view_module_version": "1.2.0",
            "_view_name": "LayoutView",
            "align_content": null,
            "align_items": null,
            "align_self": null,
            "border": null,
            "bottom": null,
            "display": null,
            "flex": null,
            "flex_flow": null,
            "grid_area": null,
            "grid_auto_columns": null,
            "grid_auto_flow": null,
            "grid_auto_rows": null,
            "grid_column": null,
            "grid_gap": null,
            "grid_row": null,
            "grid_template_areas": null,
            "grid_template_columns": null,
            "grid_template_rows": null,
            "height": null,
            "justify_content": null,
            "justify_items": null,
            "left": null,
            "margin": null,
            "max_height": null,
            "max_width": null,
            "min_height": null,
            "min_width": null,
            "object_fit": null,
            "object_position": null,
            "order": null,
            "overflow": null,
            "overflow_x": null,
            "overflow_y": null,
            "padding": null,
            "right": null,
            "top": null,
            "visibility": null,
            "width": null
          }
        },
        "baa116449dc74172a67c08e02bff8bdf": {
          "model_module": "@jupyter-widgets/controls",
          "model_name": "DescriptionStyleModel",
          "model_module_version": "1.5.0",
          "state": {
            "_model_module": "@jupyter-widgets/controls",
            "_model_module_version": "1.5.0",
            "_model_name": "DescriptionStyleModel",
            "_view_count": null,
            "_view_module": "@jupyter-widgets/base",
            "_view_module_version": "1.2.0",
            "_view_name": "StyleView",
            "description_width": ""
          }
        },
        "18044b49aa474ab09737ff4901616e65": {
          "model_module": "@jupyter-widgets/controls",
          "model_name": "HBoxModel",
          "model_module_version": "1.5.0",
          "state": {
            "_dom_classes": [],
            "_model_module": "@jupyter-widgets/controls",
            "_model_module_version": "1.5.0",
            "_model_name": "HBoxModel",
            "_view_count": null,
            "_view_module": "@jupyter-widgets/controls",
            "_view_module_version": "1.5.0",
            "_view_name": "HBoxView",
            "box_style": "",
            "children": [
              "IPY_MODEL_7049208e528d4baa8e55fafc4619f370",
              "IPY_MODEL_651cd517031d4be7a4c8ff1e4caf8a95",
              "IPY_MODEL_6f0f311dd8c84362997001b4ba25538b"
            ],
            "layout": "IPY_MODEL_abfb372fb2084eedb7a9b7657d25d56a"
          }
        },
        "7049208e528d4baa8e55fafc4619f370": {
          "model_module": "@jupyter-widgets/controls",
          "model_name": "HTMLModel",
          "model_module_version": "1.5.0",
          "state": {
            "_dom_classes": [],
            "_model_module": "@jupyter-widgets/controls",
            "_model_module_version": "1.5.0",
            "_model_name": "HTMLModel",
            "_view_count": null,
            "_view_module": "@jupyter-widgets/controls",
            "_view_module_version": "1.5.0",
            "_view_name": "HTMLView",
            "description": "",
            "description_tooltip": null,
            "layout": "IPY_MODEL_43ae3e9b3b714879861cacaf8761ce20",
            "placeholder": "​",
            "style": "IPY_MODEL_e18a6c8b5ffc4e1585cea27ee1f02bb2",
            "value": "model.safetensors: 100%"
          }
        },
        "651cd517031d4be7a4c8ff1e4caf8a95": {
          "model_module": "@jupyter-widgets/controls",
          "model_name": "FloatProgressModel",
          "model_module_version": "1.5.0",
          "state": {
            "_dom_classes": [],
            "_model_module": "@jupyter-widgets/controls",
            "_model_module_version": "1.5.0",
            "_model_name": "FloatProgressModel",
            "_view_count": null,
            "_view_module": "@jupyter-widgets/controls",
            "_view_module_version": "1.5.0",
            "_view_name": "ProgressView",
            "bar_style": "success",
            "description": "",
            "description_tooltip": null,
            "layout": "IPY_MODEL_6a9232cdf30b41b7a7ce403c34683535",
            "max": 433270764,
            "min": 0,
            "orientation": "horizontal",
            "style": "IPY_MODEL_1dc3d80a381f49459c6619549d1b9061",
            "value": 433270764
          }
        },
        "6f0f311dd8c84362997001b4ba25538b": {
          "model_module": "@jupyter-widgets/controls",
          "model_name": "HTMLModel",
          "model_module_version": "1.5.0",
          "state": {
            "_dom_classes": [],
            "_model_module": "@jupyter-widgets/controls",
            "_model_module_version": "1.5.0",
            "_model_name": "HTMLModel",
            "_view_count": null,
            "_view_module": "@jupyter-widgets/controls",
            "_view_module_version": "1.5.0",
            "_view_name": "HTMLView",
            "description": "",
            "description_tooltip": null,
            "layout": "IPY_MODEL_58ea1d3b4d1e4f12bc6ef062cd0746f2",
            "placeholder": "​",
            "style": "IPY_MODEL_a32de165759b4b4e9c9ebb632038027e",
            "value": " 433M/433M [00:10&lt;00:00, 35.3MB/s]"
          }
        },
        "abfb372fb2084eedb7a9b7657d25d56a": {
          "model_module": "@jupyter-widgets/base",
          "model_name": "LayoutModel",
          "model_module_version": "1.2.0",
          "state": {
            "_model_module": "@jupyter-widgets/base",
            "_model_module_version": "1.2.0",
            "_model_name": "LayoutModel",
            "_view_count": null,
            "_view_module": "@jupyter-widgets/base",
            "_view_module_version": "1.2.0",
            "_view_name": "LayoutView",
            "align_content": null,
            "align_items": null,
            "align_self": null,
            "border": null,
            "bottom": null,
            "display": null,
            "flex": null,
            "flex_flow": null,
            "grid_area": null,
            "grid_auto_columns": null,
            "grid_auto_flow": null,
            "grid_auto_rows": null,
            "grid_column": null,
            "grid_gap": null,
            "grid_row": null,
            "grid_template_areas": null,
            "grid_template_columns": null,
            "grid_template_rows": null,
            "height": null,
            "justify_content": null,
            "justify_items": null,
            "left": null,
            "margin": null,
            "max_height": null,
            "max_width": null,
            "min_height": null,
            "min_width": null,
            "object_fit": null,
            "object_position": null,
            "order": null,
            "overflow": null,
            "overflow_x": null,
            "overflow_y": null,
            "padding": null,
            "right": null,
            "top": null,
            "visibility": null,
            "width": null
          }
        },
        "43ae3e9b3b714879861cacaf8761ce20": {
          "model_module": "@jupyter-widgets/base",
          "model_name": "LayoutModel",
          "model_module_version": "1.2.0",
          "state": {
            "_model_module": "@jupyter-widgets/base",
            "_model_module_version": "1.2.0",
            "_model_name": "LayoutModel",
            "_view_count": null,
            "_view_module": "@jupyter-widgets/base",
            "_view_module_version": "1.2.0",
            "_view_name": "LayoutView",
            "align_content": null,
            "align_items": null,
            "align_self": null,
            "border": null,
            "bottom": null,
            "display": null,
            "flex": null,
            "flex_flow": null,
            "grid_area": null,
            "grid_auto_columns": null,
            "grid_auto_flow": null,
            "grid_auto_rows": null,
            "grid_column": null,
            "grid_gap": null,
            "grid_row": null,
            "grid_template_areas": null,
            "grid_template_columns": null,
            "grid_template_rows": null,
            "height": null,
            "justify_content": null,
            "justify_items": null,
            "left": null,
            "margin": null,
            "max_height": null,
            "max_width": null,
            "min_height": null,
            "min_width": null,
            "object_fit": null,
            "object_position": null,
            "order": null,
            "overflow": null,
            "overflow_x": null,
            "overflow_y": null,
            "padding": null,
            "right": null,
            "top": null,
            "visibility": null,
            "width": null
          }
        },
        "e18a6c8b5ffc4e1585cea27ee1f02bb2": {
          "model_module": "@jupyter-widgets/controls",
          "model_name": "DescriptionStyleModel",
          "model_module_version": "1.5.0",
          "state": {
            "_model_module": "@jupyter-widgets/controls",
            "_model_module_version": "1.5.0",
            "_model_name": "DescriptionStyleModel",
            "_view_count": null,
            "_view_module": "@jupyter-widgets/base",
            "_view_module_version": "1.2.0",
            "_view_name": "StyleView",
            "description_width": ""
          }
        },
        "6a9232cdf30b41b7a7ce403c34683535": {
          "model_module": "@jupyter-widgets/base",
          "model_name": "LayoutModel",
          "model_module_version": "1.2.0",
          "state": {
            "_model_module": "@jupyter-widgets/base",
            "_model_module_version": "1.2.0",
            "_model_name": "LayoutModel",
            "_view_count": null,
            "_view_module": "@jupyter-widgets/base",
            "_view_module_version": "1.2.0",
            "_view_name": "LayoutView",
            "align_content": null,
            "align_items": null,
            "align_self": null,
            "border": null,
            "bottom": null,
            "display": null,
            "flex": null,
            "flex_flow": null,
            "grid_area": null,
            "grid_auto_columns": null,
            "grid_auto_flow": null,
            "grid_auto_rows": null,
            "grid_column": null,
            "grid_gap": null,
            "grid_row": null,
            "grid_template_areas": null,
            "grid_template_columns": null,
            "grid_template_rows": null,
            "height": null,
            "justify_content": null,
            "justify_items": null,
            "left": null,
            "margin": null,
            "max_height": null,
            "max_width": null,
            "min_height": null,
            "min_width": null,
            "object_fit": null,
            "object_position": null,
            "order": null,
            "overflow": null,
            "overflow_x": null,
            "overflow_y": null,
            "padding": null,
            "right": null,
            "top": null,
            "visibility": null,
            "width": null
          }
        },
        "1dc3d80a381f49459c6619549d1b9061": {
          "model_module": "@jupyter-widgets/controls",
          "model_name": "ProgressStyleModel",
          "model_module_version": "1.5.0",
          "state": {
            "_model_module": "@jupyter-widgets/controls",
            "_model_module_version": "1.5.0",
            "_model_name": "ProgressStyleModel",
            "_view_count": null,
            "_view_module": "@jupyter-widgets/base",
            "_view_module_version": "1.2.0",
            "_view_name": "StyleView",
            "bar_color": null,
            "description_width": ""
          }
        },
        "58ea1d3b4d1e4f12bc6ef062cd0746f2": {
          "model_module": "@jupyter-widgets/base",
          "model_name": "LayoutModel",
          "model_module_version": "1.2.0",
          "state": {
            "_model_module": "@jupyter-widgets/base",
            "_model_module_version": "1.2.0",
            "_model_name": "LayoutModel",
            "_view_count": null,
            "_view_module": "@jupyter-widgets/base",
            "_view_module_version": "1.2.0",
            "_view_name": "LayoutView",
            "align_content": null,
            "align_items": null,
            "align_self": null,
            "border": null,
            "bottom": null,
            "display": null,
            "flex": null,
            "flex_flow": null,
            "grid_area": null,
            "grid_auto_columns": null,
            "grid_auto_flow": null,
            "grid_auto_rows": null,
            "grid_column": null,
            "grid_gap": null,
            "grid_row": null,
            "grid_template_areas": null,
            "grid_template_columns": null,
            "grid_template_rows": null,
            "height": null,
            "justify_content": null,
            "justify_items": null,
            "left": null,
            "margin": null,
            "max_height": null,
            "max_width": null,
            "min_height": null,
            "min_width": null,
            "object_fit": null,
            "object_position": null,
            "order": null,
            "overflow": null,
            "overflow_x": null,
            "overflow_y": null,
            "padding": null,
            "right": null,
            "top": null,
            "visibility": null,
            "width": null
          }
        },
        "a32de165759b4b4e9c9ebb632038027e": {
          "model_module": "@jupyter-widgets/controls",
          "model_name": "DescriptionStyleModel",
          "model_module_version": "1.5.0",
          "state": {
            "_model_module": "@jupyter-widgets/controls",
            "_model_module_version": "1.5.0",
            "_model_name": "DescriptionStyleModel",
            "_view_count": null,
            "_view_module": "@jupyter-widgets/base",
            "_view_module_version": "1.2.0",
            "_view_name": "StyleView",
            "description_width": ""
          }
        },
        "557ab8033d574ff88c3d71134050ae6f": {
          "model_module": "@jupyter-widgets/controls",
          "model_name": "HBoxModel",
          "model_module_version": "1.5.0",
          "state": {
            "_dom_classes": [],
            "_model_module": "@jupyter-widgets/controls",
            "_model_module_version": "1.5.0",
            "_model_name": "HBoxModel",
            "_view_count": null,
            "_view_module": "@jupyter-widgets/controls",
            "_view_module_version": "1.5.0",
            "_view_name": "HBoxView",
            "box_style": "",
            "children": [
              "IPY_MODEL_02fc90244c5849b49b18b3fe55c3cc45",
              "IPY_MODEL_47a7381ceac44b7a84d642b665214bf0",
              "IPY_MODEL_1c4b48e9004641eeb35e8d7a0471ccae"
            ],
            "layout": "IPY_MODEL_a999b9af72324123854cef817e91c049"
          }
        },
        "02fc90244c5849b49b18b3fe55c3cc45": {
          "model_module": "@jupyter-widgets/controls",
          "model_name": "HTMLModel",
          "model_module_version": "1.5.0",
          "state": {
            "_dom_classes": [],
            "_model_module": "@jupyter-widgets/controls",
            "_model_module_version": "1.5.0",
            "_model_name": "HTMLModel",
            "_view_count": null,
            "_view_module": "@jupyter-widgets/controls",
            "_view_module_version": "1.5.0",
            "_view_name": "HTMLView",
            "description": "",
            "description_tooltip": null,
            "layout": "IPY_MODEL_4359e463532d49b0bd27812f2c4ef102",
            "placeholder": "​",
            "style": "IPY_MODEL_ae22011bd1874c94bb7b4c3f12a0158c",
            "value": "tokenizer_config.json: 100%"
          }
        },
        "47a7381ceac44b7a84d642b665214bf0": {
          "model_module": "@jupyter-widgets/controls",
          "model_name": "FloatProgressModel",
          "model_module_version": "1.5.0",
          "state": {
            "_dom_classes": [],
            "_model_module": "@jupyter-widgets/controls",
            "_model_module_version": "1.5.0",
            "_model_name": "FloatProgressModel",
            "_view_count": null,
            "_view_module": "@jupyter-widgets/controls",
            "_view_module_version": "1.5.0",
            "_view_name": "ProgressView",
            "bar_style": "success",
            "description": "",
            "description_tooltip": null,
            "layout": "IPY_MODEL_40f84df181094eb99193308c179e427e",
            "max": 152,
            "min": 0,
            "orientation": "horizontal",
            "style": "IPY_MODEL_e3b585a9bf844d6787543f2474890e53",
            "value": 152
          }
        },
        "1c4b48e9004641eeb35e8d7a0471ccae": {
          "model_module": "@jupyter-widgets/controls",
          "model_name": "HTMLModel",
          "model_module_version": "1.5.0",
          "state": {
            "_dom_classes": [],
            "_model_module": "@jupyter-widgets/controls",
            "_model_module_version": "1.5.0",
            "_model_name": "HTMLModel",
            "_view_count": null,
            "_view_module": "@jupyter-widgets/controls",
            "_view_module_version": "1.5.0",
            "_view_name": "HTMLView",
            "description": "",
            "description_tooltip": null,
            "layout": "IPY_MODEL_7829ec2a554a4cab83ee6105bd645373",
            "placeholder": "​",
            "style": "IPY_MODEL_65efb77cf0d54100a3554836bdb21ccf",
            "value": " 152/152 [00:00&lt;00:00, 2.31kB/s]"
          }
        },
        "a999b9af72324123854cef817e91c049": {
          "model_module": "@jupyter-widgets/base",
          "model_name": "LayoutModel",
          "model_module_version": "1.2.0",
          "state": {
            "_model_module": "@jupyter-widgets/base",
            "_model_module_version": "1.2.0",
            "_model_name": "LayoutModel",
            "_view_count": null,
            "_view_module": "@jupyter-widgets/base",
            "_view_module_version": "1.2.0",
            "_view_name": "LayoutView",
            "align_content": null,
            "align_items": null,
            "align_self": null,
            "border": null,
            "bottom": null,
            "display": null,
            "flex": null,
            "flex_flow": null,
            "grid_area": null,
            "grid_auto_columns": null,
            "grid_auto_flow": null,
            "grid_auto_rows": null,
            "grid_column": null,
            "grid_gap": null,
            "grid_row": null,
            "grid_template_areas": null,
            "grid_template_columns": null,
            "grid_template_rows": null,
            "height": null,
            "justify_content": null,
            "justify_items": null,
            "left": null,
            "margin": null,
            "max_height": null,
            "max_width": null,
            "min_height": null,
            "min_width": null,
            "object_fit": null,
            "object_position": null,
            "order": null,
            "overflow": null,
            "overflow_x": null,
            "overflow_y": null,
            "padding": null,
            "right": null,
            "top": null,
            "visibility": null,
            "width": null
          }
        },
        "4359e463532d49b0bd27812f2c4ef102": {
          "model_module": "@jupyter-widgets/base",
          "model_name": "LayoutModel",
          "model_module_version": "1.2.0",
          "state": {
            "_model_module": "@jupyter-widgets/base",
            "_model_module_version": "1.2.0",
            "_model_name": "LayoutModel",
            "_view_count": null,
            "_view_module": "@jupyter-widgets/base",
            "_view_module_version": "1.2.0",
            "_view_name": "LayoutView",
            "align_content": null,
            "align_items": null,
            "align_self": null,
            "border": null,
            "bottom": null,
            "display": null,
            "flex": null,
            "flex_flow": null,
            "grid_area": null,
            "grid_auto_columns": null,
            "grid_auto_flow": null,
            "grid_auto_rows": null,
            "grid_column": null,
            "grid_gap": null,
            "grid_row": null,
            "grid_template_areas": null,
            "grid_template_columns": null,
            "grid_template_rows": null,
            "height": null,
            "justify_content": null,
            "justify_items": null,
            "left": null,
            "margin": null,
            "max_height": null,
            "max_width": null,
            "min_height": null,
            "min_width": null,
            "object_fit": null,
            "object_position": null,
            "order": null,
            "overflow": null,
            "overflow_x": null,
            "overflow_y": null,
            "padding": null,
            "right": null,
            "top": null,
            "visibility": null,
            "width": null
          }
        },
        "ae22011bd1874c94bb7b4c3f12a0158c": {
          "model_module": "@jupyter-widgets/controls",
          "model_name": "DescriptionStyleModel",
          "model_module_version": "1.5.0",
          "state": {
            "_model_module": "@jupyter-widgets/controls",
            "_model_module_version": "1.5.0",
            "_model_name": "DescriptionStyleModel",
            "_view_count": null,
            "_view_module": "@jupyter-widgets/base",
            "_view_module_version": "1.2.0",
            "_view_name": "StyleView",
            "description_width": ""
          }
        },
        "40f84df181094eb99193308c179e427e": {
          "model_module": "@jupyter-widgets/base",
          "model_name": "LayoutModel",
          "model_module_version": "1.2.0",
          "state": {
            "_model_module": "@jupyter-widgets/base",
            "_model_module_version": "1.2.0",
            "_model_name": "LayoutModel",
            "_view_count": null,
            "_view_module": "@jupyter-widgets/base",
            "_view_module_version": "1.2.0",
            "_view_name": "LayoutView",
            "align_content": null,
            "align_items": null,
            "align_self": null,
            "border": null,
            "bottom": null,
            "display": null,
            "flex": null,
            "flex_flow": null,
            "grid_area": null,
            "grid_auto_columns": null,
            "grid_auto_flow": null,
            "grid_auto_rows": null,
            "grid_column": null,
            "grid_gap": null,
            "grid_row": null,
            "grid_template_areas": null,
            "grid_template_columns": null,
            "grid_template_rows": null,
            "height": null,
            "justify_content": null,
            "justify_items": null,
            "left": null,
            "margin": null,
            "max_height": null,
            "max_width": null,
            "min_height": null,
            "min_width": null,
            "object_fit": null,
            "object_position": null,
            "order": null,
            "overflow": null,
            "overflow_x": null,
            "overflow_y": null,
            "padding": null,
            "right": null,
            "top": null,
            "visibility": null,
            "width": null
          }
        },
        "e3b585a9bf844d6787543f2474890e53": {
          "model_module": "@jupyter-widgets/controls",
          "model_name": "ProgressStyleModel",
          "model_module_version": "1.5.0",
          "state": {
            "_model_module": "@jupyter-widgets/controls",
            "_model_module_version": "1.5.0",
            "_model_name": "ProgressStyleModel",
            "_view_count": null,
            "_view_module": "@jupyter-widgets/base",
            "_view_module_version": "1.2.0",
            "_view_name": "StyleView",
            "bar_color": null,
            "description_width": ""
          }
        },
        "7829ec2a554a4cab83ee6105bd645373": {
          "model_module": "@jupyter-widgets/base",
          "model_name": "LayoutModel",
          "model_module_version": "1.2.0",
          "state": {
            "_model_module": "@jupyter-widgets/base",
            "_model_module_version": "1.2.0",
            "_model_name": "LayoutModel",
            "_view_count": null,
            "_view_module": "@jupyter-widgets/base",
            "_view_module_version": "1.2.0",
            "_view_name": "LayoutView",
            "align_content": null,
            "align_items": null,
            "align_self": null,
            "border": null,
            "bottom": null,
            "display": null,
            "flex": null,
            "flex_flow": null,
            "grid_area": null,
            "grid_auto_columns": null,
            "grid_auto_flow": null,
            "grid_auto_rows": null,
            "grid_column": null,
            "grid_gap": null,
            "grid_row": null,
            "grid_template_areas": null,
            "grid_template_columns": null,
            "grid_template_rows": null,
            "height": null,
            "justify_content": null,
            "justify_items": null,
            "left": null,
            "margin": null,
            "max_height": null,
            "max_width": null,
            "min_height": null,
            "min_width": null,
            "object_fit": null,
            "object_position": null,
            "order": null,
            "overflow": null,
            "overflow_x": null,
            "overflow_y": null,
            "padding": null,
            "right": null,
            "top": null,
            "visibility": null,
            "width": null
          }
        },
        "65efb77cf0d54100a3554836bdb21ccf": {
          "model_module": "@jupyter-widgets/controls",
          "model_name": "DescriptionStyleModel",
          "model_module_version": "1.5.0",
          "state": {
            "_model_module": "@jupyter-widgets/controls",
            "_model_module_version": "1.5.0",
            "_model_name": "DescriptionStyleModel",
            "_view_count": null,
            "_view_module": "@jupyter-widgets/base",
            "_view_module_version": "1.2.0",
            "_view_name": "StyleView",
            "description_width": ""
          }
        },
        "14a359a557b84341a468f0bcc1004b46": {
          "model_module": "@jupyter-widgets/controls",
          "model_name": "HBoxModel",
          "model_module_version": "1.5.0",
          "state": {
            "_dom_classes": [],
            "_model_module": "@jupyter-widgets/controls",
            "_model_module_version": "1.5.0",
            "_model_name": "HBoxModel",
            "_view_count": null,
            "_view_module": "@jupyter-widgets/controls",
            "_view_module_version": "1.5.0",
            "_view_name": "HBoxView",
            "box_style": "",
            "children": [
              "IPY_MODEL_0048f49280484930a81853aeb50028a2",
              "IPY_MODEL_02687e13ebad446d99d616cc6461d298",
              "IPY_MODEL_20d6c53538ee48d9b4064769d1b0a93a"
            ],
            "layout": "IPY_MODEL_2da8ab53abb14a87a0e13de562aea107"
          }
        },
        "0048f49280484930a81853aeb50028a2": {
          "model_module": "@jupyter-widgets/controls",
          "model_name": "HTMLModel",
          "model_module_version": "1.5.0",
          "state": {
            "_dom_classes": [],
            "_model_module": "@jupyter-widgets/controls",
            "_model_module_version": "1.5.0",
            "_model_name": "HTMLModel",
            "_view_count": null,
            "_view_module": "@jupyter-widgets/controls",
            "_view_module_version": "1.5.0",
            "_view_name": "HTMLView",
            "description": "",
            "description_tooltip": null,
            "layout": "IPY_MODEL_ce627144df2f43ba9083125151e97db2",
            "placeholder": "​",
            "style": "IPY_MODEL_2973b300ae57417a946ee5bdbac9258f",
            "value": "vocab.txt: 100%"
          }
        },
        "02687e13ebad446d99d616cc6461d298": {
          "model_module": "@jupyter-widgets/controls",
          "model_name": "FloatProgressModel",
          "model_module_version": "1.5.0",
          "state": {
            "_dom_classes": [],
            "_model_module": "@jupyter-widgets/controls",
            "_model_module_version": "1.5.0",
            "_model_name": "FloatProgressModel",
            "_view_count": null,
            "_view_module": "@jupyter-widgets/controls",
            "_view_module_version": "1.5.0",
            "_view_name": "ProgressView",
            "bar_style": "success",
            "description": "",
            "description_tooltip": null,
            "layout": "IPY_MODEL_d53531ad31de499dbcc95b7fa70eef0c",
            "max": 213450,
            "min": 0,
            "orientation": "horizontal",
            "style": "IPY_MODEL_2c4c8cbf26c048e1959178704c27ba46",
            "value": 213450
          }
        },
        "20d6c53538ee48d9b4064769d1b0a93a": {
          "model_module": "@jupyter-widgets/controls",
          "model_name": "HTMLModel",
          "model_module_version": "1.5.0",
          "state": {
            "_dom_classes": [],
            "_model_module": "@jupyter-widgets/controls",
            "_model_module_version": "1.5.0",
            "_model_name": "HTMLModel",
            "_view_count": null,
            "_view_module": "@jupyter-widgets/controls",
            "_view_module_version": "1.5.0",
            "_view_name": "HTMLView",
            "description": "",
            "description_tooltip": null,
            "layout": "IPY_MODEL_5fd39c355bc74f05b5cc7a2b85bdf1f1",
            "placeholder": "​",
            "style": "IPY_MODEL_0dee369cb90341cb85529cbcc5decf2d",
            "value": " 213k/213k [00:00&lt;00:00, 3.11MB/s]"
          }
        },
        "2da8ab53abb14a87a0e13de562aea107": {
          "model_module": "@jupyter-widgets/base",
          "model_name": "LayoutModel",
          "model_module_version": "1.2.0",
          "state": {
            "_model_module": "@jupyter-widgets/base",
            "_model_module_version": "1.2.0",
            "_model_name": "LayoutModel",
            "_view_count": null,
            "_view_module": "@jupyter-widgets/base",
            "_view_module_version": "1.2.0",
            "_view_name": "LayoutView",
            "align_content": null,
            "align_items": null,
            "align_self": null,
            "border": null,
            "bottom": null,
            "display": null,
            "flex": null,
            "flex_flow": null,
            "grid_area": null,
            "grid_auto_columns": null,
            "grid_auto_flow": null,
            "grid_auto_rows": null,
            "grid_column": null,
            "grid_gap": null,
            "grid_row": null,
            "grid_template_areas": null,
            "grid_template_columns": null,
            "grid_template_rows": null,
            "height": null,
            "justify_content": null,
            "justify_items": null,
            "left": null,
            "margin": null,
            "max_height": null,
            "max_width": null,
            "min_height": null,
            "min_width": null,
            "object_fit": null,
            "object_position": null,
            "order": null,
            "overflow": null,
            "overflow_x": null,
            "overflow_y": null,
            "padding": null,
            "right": null,
            "top": null,
            "visibility": null,
            "width": null
          }
        },
        "ce627144df2f43ba9083125151e97db2": {
          "model_module": "@jupyter-widgets/base",
          "model_name": "LayoutModel",
          "model_module_version": "1.2.0",
          "state": {
            "_model_module": "@jupyter-widgets/base",
            "_model_module_version": "1.2.0",
            "_model_name": "LayoutModel",
            "_view_count": null,
            "_view_module": "@jupyter-widgets/base",
            "_view_module_version": "1.2.0",
            "_view_name": "LayoutView",
            "align_content": null,
            "align_items": null,
            "align_self": null,
            "border": null,
            "bottom": null,
            "display": null,
            "flex": null,
            "flex_flow": null,
            "grid_area": null,
            "grid_auto_columns": null,
            "grid_auto_flow": null,
            "grid_auto_rows": null,
            "grid_column": null,
            "grid_gap": null,
            "grid_row": null,
            "grid_template_areas": null,
            "grid_template_columns": null,
            "grid_template_rows": null,
            "height": null,
            "justify_content": null,
            "justify_items": null,
            "left": null,
            "margin": null,
            "max_height": null,
            "max_width": null,
            "min_height": null,
            "min_width": null,
            "object_fit": null,
            "object_position": null,
            "order": null,
            "overflow": null,
            "overflow_x": null,
            "overflow_y": null,
            "padding": null,
            "right": null,
            "top": null,
            "visibility": null,
            "width": null
          }
        },
        "2973b300ae57417a946ee5bdbac9258f": {
          "model_module": "@jupyter-widgets/controls",
          "model_name": "DescriptionStyleModel",
          "model_module_version": "1.5.0",
          "state": {
            "_model_module": "@jupyter-widgets/controls",
            "_model_module_version": "1.5.0",
            "_model_name": "DescriptionStyleModel",
            "_view_count": null,
            "_view_module": "@jupyter-widgets/base",
            "_view_module_version": "1.2.0",
            "_view_name": "StyleView",
            "description_width": ""
          }
        },
        "d53531ad31de499dbcc95b7fa70eef0c": {
          "model_module": "@jupyter-widgets/base",
          "model_name": "LayoutModel",
          "model_module_version": "1.2.0",
          "state": {
            "_model_module": "@jupyter-widgets/base",
            "_model_module_version": "1.2.0",
            "_model_name": "LayoutModel",
            "_view_count": null,
            "_view_module": "@jupyter-widgets/base",
            "_view_module_version": "1.2.0",
            "_view_name": "LayoutView",
            "align_content": null,
            "align_items": null,
            "align_self": null,
            "border": null,
            "bottom": null,
            "display": null,
            "flex": null,
            "flex_flow": null,
            "grid_area": null,
            "grid_auto_columns": null,
            "grid_auto_flow": null,
            "grid_auto_rows": null,
            "grid_column": null,
            "grid_gap": null,
            "grid_row": null,
            "grid_template_areas": null,
            "grid_template_columns": null,
            "grid_template_rows": null,
            "height": null,
            "justify_content": null,
            "justify_items": null,
            "left": null,
            "margin": null,
            "max_height": null,
            "max_width": null,
            "min_height": null,
            "min_width": null,
            "object_fit": null,
            "object_position": null,
            "order": null,
            "overflow": null,
            "overflow_x": null,
            "overflow_y": null,
            "padding": null,
            "right": null,
            "top": null,
            "visibility": null,
            "width": null
          }
        },
        "2c4c8cbf26c048e1959178704c27ba46": {
          "model_module": "@jupyter-widgets/controls",
          "model_name": "ProgressStyleModel",
          "model_module_version": "1.5.0",
          "state": {
            "_model_module": "@jupyter-widgets/controls",
            "_model_module_version": "1.5.0",
            "_model_name": "ProgressStyleModel",
            "_view_count": null,
            "_view_module": "@jupyter-widgets/base",
            "_view_module_version": "1.2.0",
            "_view_name": "StyleView",
            "bar_color": null,
            "description_width": ""
          }
        },
        "5fd39c355bc74f05b5cc7a2b85bdf1f1": {
          "model_module": "@jupyter-widgets/base",
          "model_name": "LayoutModel",
          "model_module_version": "1.2.0",
          "state": {
            "_model_module": "@jupyter-widgets/base",
            "_model_module_version": "1.2.0",
            "_model_name": "LayoutModel",
            "_view_count": null,
            "_view_module": "@jupyter-widgets/base",
            "_view_module_version": "1.2.0",
            "_view_name": "LayoutView",
            "align_content": null,
            "align_items": null,
            "align_self": null,
            "border": null,
            "bottom": null,
            "display": null,
            "flex": null,
            "flex_flow": null,
            "grid_area": null,
            "grid_auto_columns": null,
            "grid_auto_flow": null,
            "grid_auto_rows": null,
            "grid_column": null,
            "grid_gap": null,
            "grid_row": null,
            "grid_template_areas": null,
            "grid_template_columns": null,
            "grid_template_rows": null,
            "height": null,
            "justify_content": null,
            "justify_items": null,
            "left": null,
            "margin": null,
            "max_height": null,
            "max_width": null,
            "min_height": null,
            "min_width": null,
            "object_fit": null,
            "object_position": null,
            "order": null,
            "overflow": null,
            "overflow_x": null,
            "overflow_y": null,
            "padding": null,
            "right": null,
            "top": null,
            "visibility": null,
            "width": null
          }
        },
        "0dee369cb90341cb85529cbcc5decf2d": {
          "model_module": "@jupyter-widgets/controls",
          "model_name": "DescriptionStyleModel",
          "model_module_version": "1.5.0",
          "state": {
            "_model_module": "@jupyter-widgets/controls",
            "_model_module_version": "1.5.0",
            "_model_name": "DescriptionStyleModel",
            "_view_count": null,
            "_view_module": "@jupyter-widgets/base",
            "_view_module_version": "1.2.0",
            "_view_name": "StyleView",
            "description_width": ""
          }
        },
        "63b81ca92e144d0f85adbe633f3b2c33": {
          "model_module": "@jupyter-widgets/controls",
          "model_name": "HBoxModel",
          "model_module_version": "1.5.0",
          "state": {
            "_dom_classes": [],
            "_model_module": "@jupyter-widgets/controls",
            "_model_module_version": "1.5.0",
            "_model_name": "HBoxModel",
            "_view_count": null,
            "_view_module": "@jupyter-widgets/controls",
            "_view_module_version": "1.5.0",
            "_view_name": "HBoxView",
            "box_style": "",
            "children": [
              "IPY_MODEL_26de576a5cf24608ae05c46f5a23f34c",
              "IPY_MODEL_b1e84a0121cd41d6bacaaabefc28743c",
              "IPY_MODEL_841fdc0a86964fcca4775fe97394b0a9"
            ],
            "layout": "IPY_MODEL_6f700a381df44d26b9db9ce7a2dee3bb"
          }
        },
        "26de576a5cf24608ae05c46f5a23f34c": {
          "model_module": "@jupyter-widgets/controls",
          "model_name": "HTMLModel",
          "model_module_version": "1.5.0",
          "state": {
            "_dom_classes": [],
            "_model_module": "@jupyter-widgets/controls",
            "_model_module_version": "1.5.0",
            "_model_name": "HTMLModel",
            "_view_count": null,
            "_view_module": "@jupyter-widgets/controls",
            "_view_module_version": "1.5.0",
            "_view_name": "HTMLView",
            "description": "",
            "description_tooltip": null,
            "layout": "IPY_MODEL_84638b1af4804aaab33ff7eed04364fe",
            "placeholder": "​",
            "style": "IPY_MODEL_273eaa1bf03548da906fac248e0c29f0",
            "value": "special_tokens_map.json: 100%"
          }
        },
        "b1e84a0121cd41d6bacaaabefc28743c": {
          "model_module": "@jupyter-widgets/controls",
          "model_name": "FloatProgressModel",
          "model_module_version": "1.5.0",
          "state": {
            "_dom_classes": [],
            "_model_module": "@jupyter-widgets/controls",
            "_model_module_version": "1.5.0",
            "_model_name": "FloatProgressModel",
            "_view_count": null,
            "_view_module": "@jupyter-widgets/controls",
            "_view_module_version": "1.5.0",
            "_view_name": "ProgressView",
            "bar_style": "success",
            "description": "",
            "description_tooltip": null,
            "layout": "IPY_MODEL_5c6503d55c3e454dadd63344e8a21af2",
            "max": 112,
            "min": 0,
            "orientation": "horizontal",
            "style": "IPY_MODEL_ad545f13823f4d0ab3ca34d85a31b3eb",
            "value": 112
          }
        },
        "841fdc0a86964fcca4775fe97394b0a9": {
          "model_module": "@jupyter-widgets/controls",
          "model_name": "HTMLModel",
          "model_module_version": "1.5.0",
          "state": {
            "_dom_classes": [],
            "_model_module": "@jupyter-widgets/controls",
            "_model_module_version": "1.5.0",
            "_model_name": "HTMLModel",
            "_view_count": null,
            "_view_module": "@jupyter-widgets/controls",
            "_view_module_version": "1.5.0",
            "_view_name": "HTMLView",
            "description": "",
            "description_tooltip": null,
            "layout": "IPY_MODEL_3393a002bf5340bab2bedf0972b7ed85",
            "placeholder": "​",
            "style": "IPY_MODEL_1e7c1ce11e74495f928d3e3a0566a5c5",
            "value": " 112/112 [00:00&lt;00:00, 1.67kB/s]"
          }
        },
        "6f700a381df44d26b9db9ce7a2dee3bb": {
          "model_module": "@jupyter-widgets/base",
          "model_name": "LayoutModel",
          "model_module_version": "1.2.0",
          "state": {
            "_model_module": "@jupyter-widgets/base",
            "_model_module_version": "1.2.0",
            "_model_name": "LayoutModel",
            "_view_count": null,
            "_view_module": "@jupyter-widgets/base",
            "_view_module_version": "1.2.0",
            "_view_name": "LayoutView",
            "align_content": null,
            "align_items": null,
            "align_self": null,
            "border": null,
            "bottom": null,
            "display": null,
            "flex": null,
            "flex_flow": null,
            "grid_area": null,
            "grid_auto_columns": null,
            "grid_auto_flow": null,
            "grid_auto_rows": null,
            "grid_column": null,
            "grid_gap": null,
            "grid_row": null,
            "grid_template_areas": null,
            "grid_template_columns": null,
            "grid_template_rows": null,
            "height": null,
            "justify_content": null,
            "justify_items": null,
            "left": null,
            "margin": null,
            "max_height": null,
            "max_width": null,
            "min_height": null,
            "min_width": null,
            "object_fit": null,
            "object_position": null,
            "order": null,
            "overflow": null,
            "overflow_x": null,
            "overflow_y": null,
            "padding": null,
            "right": null,
            "top": null,
            "visibility": null,
            "width": null
          }
        },
        "84638b1af4804aaab33ff7eed04364fe": {
          "model_module": "@jupyter-widgets/base",
          "model_name": "LayoutModel",
          "model_module_version": "1.2.0",
          "state": {
            "_model_module": "@jupyter-widgets/base",
            "_model_module_version": "1.2.0",
            "_model_name": "LayoutModel",
            "_view_count": null,
            "_view_module": "@jupyter-widgets/base",
            "_view_module_version": "1.2.0",
            "_view_name": "LayoutView",
            "align_content": null,
            "align_items": null,
            "align_self": null,
            "border": null,
            "bottom": null,
            "display": null,
            "flex": null,
            "flex_flow": null,
            "grid_area": null,
            "grid_auto_columns": null,
            "grid_auto_flow": null,
            "grid_auto_rows": null,
            "grid_column": null,
            "grid_gap": null,
            "grid_row": null,
            "grid_template_areas": null,
            "grid_template_columns": null,
            "grid_template_rows": null,
            "height": null,
            "justify_content": null,
            "justify_items": null,
            "left": null,
            "margin": null,
            "max_height": null,
            "max_width": null,
            "min_height": null,
            "min_width": null,
            "object_fit": null,
            "object_position": null,
            "order": null,
            "overflow": null,
            "overflow_x": null,
            "overflow_y": null,
            "padding": null,
            "right": null,
            "top": null,
            "visibility": null,
            "width": null
          }
        },
        "273eaa1bf03548da906fac248e0c29f0": {
          "model_module": "@jupyter-widgets/controls",
          "model_name": "DescriptionStyleModel",
          "model_module_version": "1.5.0",
          "state": {
            "_model_module": "@jupyter-widgets/controls",
            "_model_module_version": "1.5.0",
            "_model_name": "DescriptionStyleModel",
            "_view_count": null,
            "_view_module": "@jupyter-widgets/base",
            "_view_module_version": "1.2.0",
            "_view_name": "StyleView",
            "description_width": ""
          }
        },
        "5c6503d55c3e454dadd63344e8a21af2": {
          "model_module": "@jupyter-widgets/base",
          "model_name": "LayoutModel",
          "model_module_version": "1.2.0",
          "state": {
            "_model_module": "@jupyter-widgets/base",
            "_model_module_version": "1.2.0",
            "_model_name": "LayoutModel",
            "_view_count": null,
            "_view_module": "@jupyter-widgets/base",
            "_view_module_version": "1.2.0",
            "_view_name": "LayoutView",
            "align_content": null,
            "align_items": null,
            "align_self": null,
            "border": null,
            "bottom": null,
            "display": null,
            "flex": null,
            "flex_flow": null,
            "grid_area": null,
            "grid_auto_columns": null,
            "grid_auto_flow": null,
            "grid_auto_rows": null,
            "grid_column": null,
            "grid_gap": null,
            "grid_row": null,
            "grid_template_areas": null,
            "grid_template_columns": null,
            "grid_template_rows": null,
            "height": null,
            "justify_content": null,
            "justify_items": null,
            "left": null,
            "margin": null,
            "max_height": null,
            "max_width": null,
            "min_height": null,
            "min_width": null,
            "object_fit": null,
            "object_position": null,
            "order": null,
            "overflow": null,
            "overflow_x": null,
            "overflow_y": null,
            "padding": null,
            "right": null,
            "top": null,
            "visibility": null,
            "width": null
          }
        },
        "ad545f13823f4d0ab3ca34d85a31b3eb": {
          "model_module": "@jupyter-widgets/controls",
          "model_name": "ProgressStyleModel",
          "model_module_version": "1.5.0",
          "state": {
            "_model_module": "@jupyter-widgets/controls",
            "_model_module_version": "1.5.0",
            "_model_name": "ProgressStyleModel",
            "_view_count": null,
            "_view_module": "@jupyter-widgets/base",
            "_view_module_version": "1.2.0",
            "_view_name": "StyleView",
            "bar_color": null,
            "description_width": ""
          }
        },
        "3393a002bf5340bab2bedf0972b7ed85": {
          "model_module": "@jupyter-widgets/base",
          "model_name": "LayoutModel",
          "model_module_version": "1.2.0",
          "state": {
            "_model_module": "@jupyter-widgets/base",
            "_model_module_version": "1.2.0",
            "_model_name": "LayoutModel",
            "_view_count": null,
            "_view_module": "@jupyter-widgets/base",
            "_view_module_version": "1.2.0",
            "_view_name": "LayoutView",
            "align_content": null,
            "align_items": null,
            "align_self": null,
            "border": null,
            "bottom": null,
            "display": null,
            "flex": null,
            "flex_flow": null,
            "grid_area": null,
            "grid_auto_columns": null,
            "grid_auto_flow": null,
            "grid_auto_rows": null,
            "grid_column": null,
            "grid_gap": null,
            "grid_row": null,
            "grid_template_areas": null,
            "grid_template_columns": null,
            "grid_template_rows": null,
            "height": null,
            "justify_content": null,
            "justify_items": null,
            "left": null,
            "margin": null,
            "max_height": null,
            "max_width": null,
            "min_height": null,
            "min_width": null,
            "object_fit": null,
            "object_position": null,
            "order": null,
            "overflow": null,
            "overflow_x": null,
            "overflow_y": null,
            "padding": null,
            "right": null,
            "top": null,
            "visibility": null,
            "width": null
          }
        },
        "1e7c1ce11e74495f928d3e3a0566a5c5": {
          "model_module": "@jupyter-widgets/controls",
          "model_name": "DescriptionStyleModel",
          "model_module_version": "1.5.0",
          "state": {
            "_model_module": "@jupyter-widgets/controls",
            "_model_module_version": "1.5.0",
            "_model_name": "DescriptionStyleModel",
            "_view_count": null,
            "_view_module": "@jupyter-widgets/base",
            "_view_module_version": "1.2.0",
            "_view_name": "StyleView",
            "description_width": ""
          }
        }
      }
    }
  },
  "cells": [
    {
      "cell_type": "markdown",
      "metadata": {
        "id": "view-in-github",
        "colab_type": "text"
      },
      "source": [
        "<a href=\"https://colab.research.google.com/github/siddharthprakash1/GoogleCollabNotebooks/blob/main/Question_and_Answer_Model_Using_Hugging_Face_.ipynb\" target=\"_parent\"><img src=\"https://colab.research.google.com/assets/colab-badge.svg\" alt=\"Open In Colab\"/></a>"
      ]
    },
    {
      "cell_type": "code",
      "source": [
        "context=(\"Pokémon[a] is a Japanese media franchise consisting of video games, animated series and films, a trading card game, and other related media. The franchise takes place in a shared universe in which humans co-exist with creatures known as Pokémon, a large variety of species endowed with special powers. The franchise's target audience is children aged 5 to 12,[1] but it is known to attract people of all ages.[2][3][4][5]\"\n",
        "\"The franchise originated as a pair of role-playing games developed by Game Freak, from an original concept by its founder, Satoshi Tajiri. Released on the Game Boy on February 27, 1996, the games became sleeper hits and were followed by manga series, a trading card game, and anime series and films. From 1998 to 2000, Pokémon was exported to the rest of the world, creating an unprecedented global phenomenon dubbed Pokémania\" \"By 2002, the craze had ended, after which Pokémon became a fixture in popular culture, with new products being released to this day. In the summer of 2016, the franchise spawned a second craze with the release of Pokémon Go, an augmented reality game developed by Niantic. Pokémon has since been estimated to be the world's highest-grossing media franchise and one of the best-selling video game franchises.\"\n",
        "\"Pokémon has an uncommon ownership structure. Unlike most IPs, which are owned by one company, Pokémon is jointly owned by three: Nintendo, Game Freak, and Creatures.[6][7] Game Freak develops the core series role-playing games, which are published by Nintendo exclusively for their consoles, while Creatures manages the trading card game and related merchandise, occasionally developing spin-off titles.\" \"The three companies established The Pokémon Company (TPC) in 1998 to manage the Pokémon property within Asia. The Pokémon anime series and films are co-owned by Shogakukan. Since 2009, The Pokémon Company International (TPCi) subsidiary of TPC has managed the franchise in all regions outside of Asia.[8]\"\n",
        "\"Name\"\n",
        "\"The original full name of the franchise is Pocket Monsters (ポケットモンスター, Poketto Monsutā), which was abbreviated to Pokemon during development of the original games. When the franchise was released internationally, the short form of the title was used, with an acute accent (´) over the e to aid in pronunciation.[9]\"\n",
        "\"Pokémon refers to both the franchise itself and the creatures within its fictional universe. As a noun, it is identical in both the singular and plural, as is every individual species name;[10] it is grammatically correct to say 'one Pokémon' and 'many Pokémon', as well as 'one Pikachu' and 'many Pikachu'. In English, Pokémon may be pronounced either /'powkɛmon/ (poe-keh-mon) or /'powkɪmon/ (poe-key-mon).[11]\"\n",
        "\"General concept\"\n",
        "\"Main article: Gameplay of Pokémon\"\n",
        "\"The Pokémon franchise is set in a world in which humans coexist with creatures known as Pokémon. Pokémon Red and Blue contain 151 Pokémon species, with new ones being introduced in subsequent games; as of December 2023, 1,025 Pokémon species have been introduced.[b] Most Pokémon are inspired by real-world animals;[12] for example, Pikachu are a yellow mouse-like species[13] with lightning bolt-shaped tails[14] that possess electrical abilities.[15]\"\n",
        "\"The player character takes the role of a Pokémon Trainer. The Trainer has three primary goals: travel and explore the Pokémon world; discover and catch each Pokémon species in order to complete their Pokédex; and train a team of up to six Pokémon at a time and have them engage in battles. Most Pokémon can be caught with spherical devices known as Poké Balls. Once the opposing Pokémon is sufficiently weakened, the Trainer throws the Poké Ball against the Pokémon, which is then transformed into a form of energy and transported into the device. Once the catch is successful, the Pokémon is tamed and is under the Trainer's command from then on. If the Poké Ball is thrown again, the Pokémon re-materializes into its original state. The Trainer's Pokémon can engage in battles against opposing Pokémon, including those in the wild or owned by other Trainers. Because the franchise is aimed at children, these battles are never presented as overtly violent and contain no blood or gore.[I] Pokémon never die in battle, instead fainting upon being defeated.[20][21][22]\"\n",
        "\"After a Pokémon wins a battle, it gains experience and becomes stronger.[23] After gaining a certain amount of experience points, its level increases, as well as one or more of its statistics. As its level increases, the Pokémon can learn new offensive and defensive moves to use in battle.[24][25] Furthermore, many species can undergo a form of spontaneous metamorphosis called Pokémon evolution, and transform into stronger forms.[26] Most Pokémon will evolve at a certain level, while others evolve through different means, such as exposure to a certain item.[27]\"\n",
        "\"History\"\n",
        "\"For a chronological guide, see Timeline of Pokémon.\"\n",
        "\"Origins\"\n",
        "\"The main idea behind Pokémon was conceived by Satoshi Tajiri. Tajiri grew up in Machida, a suburb of Tokyo. In his youth, he enjoyed discovering and catching insects and other small creatures in the various ponds and fields that surrounded his town.[28][29] As Japan's economic miracle occurred, many cities, including Machida, were significantly expanded. As a consequence, Machida's nature was largely destroyed. In his second year of junior high school,[30][31] an arcade hall opened in Tajiri's neighborhood, introducing him to video games. While studying electrical engineering at Tokyo College of Technology [ja], Tajiri began publishing a doujinshi magazine titled Game Freak.[32] The title was inspired by the 1932 film Freaks, which Tajiri was fascinated with at the time.[33] He self-published the first issue of the magazine in March 1983, at the age of 17.[34][35] At the time, magazines specializing in video games did not yet exist in Japan, allowing Game Freak to fill a gap in the market.[36][37] Concurrently, Tajiri was contacted by aspiring manga artist Ken Sugimori, who became Game Freak's illustrator.[38] Game Freak folded in the late 1980s,[34] by which point Tajiri had become a respected game journalist in Japan's fledgling video game industry.[39]\"\n",
        "\"Tajiri's knowledge of video games brought him into contact with Tsunekazu Ishihara. Ishihara had studied Arts and Science at Tsukuba University, and was trained in CGI. After working in advertising for two years, Ishihara joined a company named Sedic in 1983, which created video graphics and software,[40] including one video game, Otocky (1987).[41][42] As video games grew in popularity, Sedic also produced a number of game-related television shows for Fuji Television's late-night slot.[40] In his job as a TV producer, Ishihara befriended Tajiri, as well as Shigesato Itoi, who would later become CEO of Ape, Inc.[43][44] Ishihara was also the general director of the world's first gaming encyclopedia: TV Games: Encyclopedia of Video Games (テレビゲーム―電視遊戯大全, Terebigēmu ― Denshi Yūgi Taizen).[45][46] Hatakeyama & Kubo (2000) wrote that, at the time, Ishihara was probably the most well-connected man in the industry,[47] with a knowledge of games 'beyond comparison'.[48] Ishihara was also interested in playing cards,[49][50] and contributed to the development of at least three simple card games designed by Itoi for Ape.[c]\"\n",
        ")\n",
        "context"
      ],
      "metadata": {
        "colab": {
          "base_uri": "https://localhost:8080/",
          "height": 123
        },
        "id": "SxsJHRRMcv4K",
        "outputId": "0f156398-992a-4cd9-d505-32e7390bbb4d"
      },
      "execution_count": 1,
      "outputs": [
        {
          "output_type": "execute_result",
          "data": {
            "text/plain": [
              "\"Pokémon[a] is a Japanese media franchise consisting of video games, animated series and films, a trading card game, and other related media. The franchise takes place in a shared universe in which humans co-exist with creatures known as Pokémon, a large variety of species endowed with special powers. The franchise's target audience is children aged 5 to 12,[1] but it is known to attract people of all ages.[2][3][4][5]The franchise originated as a pair of role-playing games developed by Game Freak, from an original concept by its founder, Satoshi Tajiri. Released on the Game Boy on February 27, 1996, the games became sleeper hits and were followed by manga series, a trading card game, and anime series and films. From 1998 to 2000, Pokémon was exported to the rest of the world, creating an unprecedented global phenomenon dubbed PokémaniaBy 2002, the craze had ended, after which Pokémon became a fixture in popular culture, with new products being released to this day. In the summer of 2016, the franchise spawned a second craze with the release of Pokémon Go, an augmented reality game developed by Niantic. Pokémon has since been estimated to be the world's highest-grossing media franchise and one of the best-selling video game franchises.Pokémon has an uncommon ownership structure. Unlike most IPs, which are owned by one company, Pokémon is jointly owned by three: Nintendo, Game Freak, and Creatures.[6][7] Game Freak develops the core series role-playing games, which are published by Nintendo exclusively for their consoles, while Creatures manages the trading card game and related merchandise, occasionally developing spin-off titles.The three companies established The Pokémon Company (TPC) in 1998 to manage the Pokémon property within Asia. The Pokémon anime series and films are co-owned by Shogakukan. Since 2009, The Pokémon Company International (TPCi) subsidiary of TPC has managed the franchise in all regions outside of Asia.[8]NameThe original full name of the franchise is Pocket Monsters (ポケットモンスター, Poketto Monsutā), which was abbreviated to Pokemon during development of the original games. When the franchise was released internationally, the short form of the title was used, with an acute accent (´) over the e to aid in pronunciation.[9]Pokémon refers to both the franchise itself and the creatures within its fictional universe. As a noun, it is identical in both the singular and plural, as is every individual species name;[10] it is grammatically correct to say 'one Pokémon' and 'many Pokémon', as well as 'one Pikachu' and 'many Pikachu'. In English, Pokémon may be pronounced either /'powkɛmon/ (poe-keh-mon) or /'powkɪmon/ (poe-key-mon).[11]General conceptMain article: Gameplay of PokémonThe Pokémon franchise is set in a world in which humans coexist with creatures known as Pokémon. Pokémon Red and Blue contain 151 Pokémon species, with new ones being introduced in subsequent games; as of December 2023, 1,025 Pokémon species have been introduced.[b] Most Pokémon are inspired by real-world animals;[12] for example, Pikachu are a yellow mouse-like species[13] with lightning bolt-shaped tails[14] that possess electrical abilities.[15]The player character takes the role of a Pokémon Trainer. The Trainer has three primary goals: travel and explore the Pokémon world; discover and catch each Pokémon species in order to complete their Pokédex; and train a team of up to six Pokémon at a time and have them engage in battles. Most Pokémon can be caught with spherical devices known as Poké Balls. Once the opposing Pokémon is sufficiently weakened, the Trainer throws the Poké Ball against the Pokémon, which is then transformed into a form of energy and transported into the device. Once the catch is successful, the Pokémon is tamed and is under the Trainer's command from then on. If the Poké Ball is thrown again, the Pokémon re-materializes into its original state. The Trainer's Pokémon can engage in battles against opposing Pokémon, including those in the wild or owned by other Trainers. Because the franchise is aimed at children, these battles are never presented as overtly violent and contain no blood or gore.[I] Pokémon never die in battle, instead fainting upon being defeated.[20][21][22]After a Pokémon wins a battle, it gains experience and becomes stronger.[23] After gaining a certain amount of experience points, its level increases, as well as one or more of its statistics. As its level increases, the Pokémon can learn new offensive and defensive moves to use in battle.[24][25] Furthermore, many species can undergo a form of spontaneous metamorphosis called Pokémon evolution, and transform into stronger forms.[26] Most Pokémon will evolve at a certain level, while others evolve through different means, such as exposure to a certain item.[27]HistoryFor a chronological guide, see Timeline of Pokémon.OriginsThe main idea behind Pokémon was conceived by Satoshi Tajiri. Tajiri grew up in Machida, a suburb of Tokyo. In his youth, he enjoyed discovering and catching insects and other small creatures in the various ponds and fields that surrounded his town.[28][29] As Japan's economic miracle occurred, many cities, including Machida, were significantly expanded. As a consequence, Machida's nature was largely destroyed. In his second year of junior high school,[30][31] an arcade hall opened in Tajiri's neighborhood, introducing him to video games. While studying electrical engineering at Tokyo College of Technology [ja], Tajiri began publishing a doujinshi magazine titled Game Freak.[32] The title was inspired by the 1932 film Freaks, which Tajiri was fascinated with at the time.[33] He self-published the first issue of the magazine in March 1983, at the age of 17.[34][35] At the time, magazines specializing in video games did not yet exist in Japan, allowing Game Freak to fill a gap in the market.[36][37] Concurrently, Tajiri was contacted by aspiring manga artist Ken Sugimori, who became Game Freak's illustrator.[38] Game Freak folded in the late 1980s,[34] by which point Tajiri had become a respected game journalist in Japan's fledgling video game industry.[39]Tajiri's knowledge of video games brought him into contact with Tsunekazu Ishihara. Ishihara had studied Arts and Science at Tsukuba University, and was trained in CGI. After working in advertising for two years, Ishihara joined a company named Sedic in 1983, which created video graphics and software,[40] including one video game, Otocky (1987).[41][42] As video games grew in popularity, Sedic also produced a number of game-related television shows for Fuji Television's late-night slot.[40] In his job as a TV producer, Ishihara befriended Tajiri, as well as Shigesato Itoi, who would later become CEO of Ape, Inc.[43][44] Ishihara was also the general director of the world's first gaming encyclopedia: TV Games: Encyclopedia of Video Games (テレビゲーム―電視遊戯大全, Terebigēmu ― Denshi Yūgi Taizen).[45][46] Hatakeyama & Kubo (2000) wrote that, at the time, Ishihara was probably the most well-connected man in the industry,[47] with a knowledge of games 'beyond comparison'.[48] Ishihara was also interested in playing cards,[49][50] and contributed to the development of at least three simple card games designed by Itoi for Ape.[c]\""
            ],
            "application/vnd.google.colaboratory.intrinsic+json": {
              "type": "string"
            }
          },
          "metadata": {},
          "execution_count": 1
        }
      ]
    },
    {
      "cell_type": "code",
      "source": [
        "questions=[\n",
        "    \"what is Pokémon?\",\"what is the target audience of Pokémon?\",\"who is the founder of Pokémon?\",\"when was pokemon a big hit?\",\"Where did the founder of pokemon stay?\"\n",
        "]"
      ],
      "metadata": {
        "id": "ZkoQeFQScbcZ"
      },
      "execution_count": 4,
      "outputs": []
    },
    {
      "cell_type": "code",
      "execution_count": 5,
      "metadata": {
        "id": "ARLfa1EnXazs"
      },
      "outputs": [],
      "source": [
        "from transformers import BertForQuestionAnswering"
      ]
    },
    {
      "cell_type": "markdown",
      "source": [
        "this is the pytorch implementation of bert if u want tesnorflow then add tf"
      ],
      "metadata": {
        "id": "_IYNAyqtbRp5"
      }
    },
    {
      "cell_type": "markdown",
      "source": [
        "## Importing BertForQuestionAnswering\n",
        "\n",
        "This line imports the `BertForQuestionAnswering` class from the `transformers` library. This class provides a pre-trained model specifically designed for question-answering tasks.\n",
        "\n",
        "The `transformers` library offers various pre-trained models for natural language processing (NLP) tasks, including question answering. `BertForQuestionAnswering` is a fine-tuned version of the Bidirectional Encoder Representations from Transformers (BERT) model, specifically for extracting answers from a given context based on a posed question.\n",
        "\n",
        "By importing this class, you gain access to a powerful tool for building your question-answering model without the need to train a model from scratch. The pre-trained model has already learned valuable representations of words and their relationships, which can be leveraged for your task.\n"
      ],
      "metadata": {
        "id": "slFoIxrBdzoN"
      }
    },
    {
      "cell_type": "code",
      "source": [
        "!pip install huggingface-cli"
      ],
      "metadata": {
        "colab": {
          "base_uri": "https://localhost:8080/"
        },
        "id": "x68L79fNZJKh",
        "outputId": "7abbbd51-e4d7-490a-e913-f17603a76069"
      },
      "execution_count": 6,
      "outputs": [
        {
          "output_type": "stream",
          "name": "stdout",
          "text": [
            "Collecting huggingface-cli\n",
            "  Downloading huggingface_cli-0.1-py3-none-any.whl (1.0 kB)\n",
            "Installing collected packages: huggingface-cli\n",
            "Successfully installed huggingface-cli-0.1\n"
          ]
        }
      ]
    },
    {
      "cell_type": "code",
      "source": [
        "!huggingface-cli login"
      ],
      "metadata": {
        "colab": {
          "base_uri": "https://localhost:8080/"
        },
        "id": "llYClfKSZPfm",
        "outputId": "94d5bb47-e1ca-4f1e-cb74-e4e284f445a9"
      },
      "execution_count": null,
      "outputs": [
        {
          "output_type": "stream",
          "name": "stdout",
          "text": [
            "\n",
            "    _|    _|  _|    _|    _|_|_|    _|_|_|  _|_|_|  _|      _|    _|_|_|      _|_|_|_|    _|_|      _|_|_|  _|_|_|_|\n",
            "    _|    _|  _|    _|  _|        _|          _|    _|_|    _|  _|            _|        _|    _|  _|        _|\n",
            "    _|_|_|_|  _|    _|  _|  _|_|  _|  _|_|    _|    _|  _|  _|  _|  _|_|      _|_|_|    _|_|_|_|  _|        _|_|_|\n",
            "    _|    _|  _|    _|  _|    _|  _|    _|    _|    _|    _|_|  _|    _|      _|        _|    _|  _|        _|\n",
            "    _|    _|    _|_|      _|_|_|    _|_|_|  _|_|_|  _|      _|    _|_|_|      _|        _|    _|    _|_|_|  _|_|_|_|\n",
            "\n",
            "    To login, `huggingface_hub` requires a token generated from https://huggingface.co/settings/tokens .\n",
            "Token: \n",
            "Add token as git credential? (Y/n) y\n",
            "Token is valid (permission: read).\n",
            "\u001b[1m\u001b[31mCannot authenticate through git-credential as no helper is defined on your machine.\n",
            "You might have to re-authenticate when pushing to the Hugging Face Hub.\n",
            "Run the following command in your terminal in case you want to set the 'store' credential helper as default.\n",
            "\n",
            "git config --global credential.helper store\n",
            "\n",
            "Read https://git-scm.com/book/en/v2/Git-Tools-Credential-Storage for more details.\u001b[0m\n",
            "Token has not been saved to git credential helper.\n",
            "Your token has been saved to /root/.cache/huggingface/token\n",
            "Login successful\n"
          ]
        }
      ]
    },
    {
      "cell_type": "code",
      "source": [
        "model=BertForQuestionAnswering.from_pretrained('deepset/bert-base-cased-squad2')"
      ],
      "metadata": {
        "colab": {
          "base_uri": "https://localhost:8080/",
          "height": 257,
          "referenced_widgets": [
            "38524d9b62014a52bc1e9d6062835056",
            "5d66c8e5611148f1817999d58dc98815",
            "98f75be1c15c4071841ca1e0ea152884",
            "957ae842e1bd4ac597dc9b693e3c8f80",
            "a853c0d9e9f74420887b78259a012241",
            "f34a1c1bc0144f85a8d82b7c456fd100",
            "3f745ba1655344dba3c3ed4210619b49",
            "8ecc6eb747f545798bf1748109f29b73",
            "447eae201f89444c8016e918c7511209",
            "4af60c207c414061a72d75e399989dbd",
            "baa116449dc74172a67c08e02bff8bdf",
            "18044b49aa474ab09737ff4901616e65",
            "7049208e528d4baa8e55fafc4619f370",
            "651cd517031d4be7a4c8ff1e4caf8a95",
            "6f0f311dd8c84362997001b4ba25538b",
            "abfb372fb2084eedb7a9b7657d25d56a",
            "43ae3e9b3b714879861cacaf8761ce20",
            "e18a6c8b5ffc4e1585cea27ee1f02bb2",
            "6a9232cdf30b41b7a7ce403c34683535",
            "1dc3d80a381f49459c6619549d1b9061",
            "58ea1d3b4d1e4f12bc6ef062cd0746f2",
            "a32de165759b4b4e9c9ebb632038027e"
          ]
        },
        "id": "kVcg53cyXhQx",
        "outputId": "ac36defd-f218-4728-9c24-9c679bcecd26"
      },
      "execution_count": 7,
      "outputs": [
        {
          "output_type": "stream",
          "name": "stderr",
          "text": [
            "/usr/local/lib/python3.10/dist-packages/huggingface_hub/utils/_token.py:88: UserWarning: \n",
            "The secret `HF_TOKEN` does not exist in your Colab secrets.\n",
            "To authenticate with the Hugging Face Hub, create a token in your settings tab (https://huggingface.co/settings/tokens), set it as secret in your Google Colab and restart your session.\n",
            "You will be able to reuse this secret in all of your notebooks.\n",
            "Please note that authentication is recommended but still optional to access public models or datasets.\n",
            "  warnings.warn(\n"
          ]
        },
        {
          "output_type": "display_data",
          "data": {
            "text/plain": [
              "config.json:   0%|          | 0.00/508 [00:00<?, ?B/s]"
            ],
            "application/vnd.jupyter.widget-view+json": {
              "version_major": 2,
              "version_minor": 0,
              "model_id": "38524d9b62014a52bc1e9d6062835056"
            }
          },
          "metadata": {}
        },
        {
          "output_type": "display_data",
          "data": {
            "text/plain": [
              "model.safetensors:   0%|          | 0.00/433M [00:00<?, ?B/s]"
            ],
            "application/vnd.jupyter.widget-view+json": {
              "version_major": 2,
              "version_minor": 0,
              "model_id": "18044b49aa474ab09737ff4901616e65"
            }
          },
          "metadata": {}
        },
        {
          "output_type": "stream",
          "name": "stderr",
          "text": [
            "Some weights of the model checkpoint at deepset/bert-base-cased-squad2 were not used when initializing BertForQuestionAnswering: ['bert.pooler.dense.bias', 'bert.pooler.dense.weight']\n",
            "- This IS expected if you are initializing BertForQuestionAnswering from the checkpoint of a model trained on another task or with another architecture (e.g. initializing a BertForSequenceClassification model from a BertForPreTraining model).\n",
            "- This IS NOT expected if you are initializing BertForQuestionAnswering from the checkpoint of a model that you expect to be exactly identical (initializing a BertForSequenceClassification model from a BertForSequenceClassification model).\n"
          ]
        }
      ]
    },
    {
      "cell_type": "markdown",
      "source": [
        "## Loading the Pre-trained Question Answering Model\n",
        "\n",
        "This line creates a question-answering model instance using the `BertForQuestionAnswering.from_pretrained()` method. Let's break down what's happening:\n",
        "\n",
        "* **`model =`**: Assigns the created model to the variable `model`.\n",
        "* **`BertForQuestionAnswering`**: This refers to the class imported earlier from the `transformers` library. It provides functionalities for question-answering tasks.\n",
        "* **`.from_pretrained('deepset/bert-base-cased-squad2')`**: This part performs the following actions:\n",
        "    * **`from_pretrained()`**: This method is used to load a pre-trained model from the Hugging Face model hub.\n",
        "    * **`'deepset/bert-base-cased-squad2'`**: This is the specific model identifier you're using. It points to a pre-trained BERT model from the Hugging Face model hub:\n",
        "        * **`deepset/`**: This indicates the model is provided by a contributor named \"deepset\".\n",
        "        * **`bert-base-cased-squad2`**: This specifies the model architecture (BERT), case sensitivity (cased), and fine-tuning (on the SQuAD 2 dataset for question answering).\n",
        "\n",
        "In essence, this line loads a pre-trained model that has already been trained on a massive dataset of text and question-answer pairs. This pre-trained knowledge can be effectively applied to your specific question-answering task without the need to train a model from scratch.\n"
      ],
      "metadata": {
        "id": "xan7IrUBeAVW"
      }
    },
    {
      "cell_type": "code",
      "source": [
        "from transformers import AutoTokenizer"
      ],
      "metadata": {
        "id": "qFD9dxShae8e"
      },
      "execution_count": 8,
      "outputs": []
    },
    {
      "cell_type": "markdown",
      "source": [
        "## Importing AutoTokenizer\n",
        "\n",
        "This line imports the `AutoTokenizer` class from the `transformers` library. This class plays a crucial role in working with pre-trained models from the Hugging Face model hub.\n",
        "\n",
        "**Functionality of AutoTokenizer:**\n",
        "\n",
        "The `AutoTokenizer` simplifies the process of loading the appropriate tokenizer for a given pre-trained model. It automatically determines the correct tokenizer based on the model identifier you provide later in your code.\n",
        "\n",
        "**Benefits of AutoTokenizer:**\n",
        "\n",
        "* **Convenience:** Saves you from manually searching for the corresponding tokenizer for each model.\n",
        "* **Efficiency:** Ensures compatibility between the model and tokenizer.\n",
        "* **Flexibility:** Works with various pre-trained models from the Hugging Face model hub.\n",
        "\n",
        "In essence, `AutoTokenizer` streamlines the process of preparing text data for use with your pre-trained model by handling the underlying complexities of tokenizer selection.\n"
      ],
      "metadata": {
        "id": "fqdivdBceLk7"
      }
    },
    {
      "cell_type": "code",
      "source": [
        "tokenizer=AutoTokenizer.from_pretrained('deepset/bert-base-cased-squad2')"
      ],
      "metadata": {
        "colab": {
          "base_uri": "https://localhost:8080/",
          "height": 113,
          "referenced_widgets": [
            "557ab8033d574ff88c3d71134050ae6f",
            "02fc90244c5849b49b18b3fe55c3cc45",
            "47a7381ceac44b7a84d642b665214bf0",
            "1c4b48e9004641eeb35e8d7a0471ccae",
            "a999b9af72324123854cef817e91c049",
            "4359e463532d49b0bd27812f2c4ef102",
            "ae22011bd1874c94bb7b4c3f12a0158c",
            "40f84df181094eb99193308c179e427e",
            "e3b585a9bf844d6787543f2474890e53",
            "7829ec2a554a4cab83ee6105bd645373",
            "65efb77cf0d54100a3554836bdb21ccf",
            "14a359a557b84341a468f0bcc1004b46",
            "0048f49280484930a81853aeb50028a2",
            "02687e13ebad446d99d616cc6461d298",
            "20d6c53538ee48d9b4064769d1b0a93a",
            "2da8ab53abb14a87a0e13de562aea107",
            "ce627144df2f43ba9083125151e97db2",
            "2973b300ae57417a946ee5bdbac9258f",
            "d53531ad31de499dbcc95b7fa70eef0c",
            "2c4c8cbf26c048e1959178704c27ba46",
            "5fd39c355bc74f05b5cc7a2b85bdf1f1",
            "0dee369cb90341cb85529cbcc5decf2d",
            "63b81ca92e144d0f85adbe633f3b2c33",
            "26de576a5cf24608ae05c46f5a23f34c",
            "b1e84a0121cd41d6bacaaabefc28743c",
            "841fdc0a86964fcca4775fe97394b0a9",
            "6f700a381df44d26b9db9ce7a2dee3bb",
            "84638b1af4804aaab33ff7eed04364fe",
            "273eaa1bf03548da906fac248e0c29f0",
            "5c6503d55c3e454dadd63344e8a21af2",
            "ad545f13823f4d0ab3ca34d85a31b3eb",
            "3393a002bf5340bab2bedf0972b7ed85",
            "1e7c1ce11e74495f928d3e3a0566a5c5"
          ]
        },
        "id": "yD_xJ00gak9w",
        "outputId": "419a79ab-db5c-4cd4-8ffb-b4856c9cefae"
      },
      "execution_count": 9,
      "outputs": [
        {
          "output_type": "display_data",
          "data": {
            "text/plain": [
              "tokenizer_config.json:   0%|          | 0.00/152 [00:00<?, ?B/s]"
            ],
            "application/vnd.jupyter.widget-view+json": {
              "version_major": 2,
              "version_minor": 0,
              "model_id": "557ab8033d574ff88c3d71134050ae6f"
            }
          },
          "metadata": {}
        },
        {
          "output_type": "display_data",
          "data": {
            "text/plain": [
              "vocab.txt:   0%|          | 0.00/213k [00:00<?, ?B/s]"
            ],
            "application/vnd.jupyter.widget-view+json": {
              "version_major": 2,
              "version_minor": 0,
              "model_id": "14a359a557b84341a468f0bcc1004b46"
            }
          },
          "metadata": {}
        },
        {
          "output_type": "display_data",
          "data": {
            "text/plain": [
              "special_tokens_map.json:   0%|          | 0.00/112 [00:00<?, ?B/s]"
            ],
            "application/vnd.jupyter.widget-view+json": {
              "version_major": 2,
              "version_minor": 0,
              "model_id": "63b81ca92e144d0f85adbe633f3b2c33"
            }
          },
          "metadata": {}
        }
      ]
    },
    {
      "cell_type": "markdown",
      "source": [
        "so here bert understands string using tokens so we  have to tokenize the string input to pass it as an input in the bert model"
      ],
      "metadata": {
        "id": "XwPHBF8TbjOG"
      }
    },
    {
      "cell_type": "markdown",
      "source": [
        "## Loading the Pre-trained Tokenizer\n",
        "\n",
        "This line creates a tokenizer instance using the `AutoTokenizer.from_pretrained()` method. Let's break down the components:\n",
        "\n",
        "* **`tokenizer =`**: Assigns the created tokenizer to the variable `tokenizer`.\n",
        "* **`AutoTokenizer`**: This refers to the class imported earlier from the `transformers` library. It provides functionalities for preparing text data for use with pre-trained models.\n",
        "* **`.from_pretrained('deepset/bert-base-cased-squad2')`**: This part performs the following actions:\n",
        "    * **`from_pretrained()`**: This method is used to load a tokenizer that is compatible with a pre-trained model from the Hugging Face model hub.\n",
        "    * **`'deepset/bert-base-cased-squad2'`**: This is the same model identifier you used earlier to load the question-answering model (`BertForQuestionAnswering`). By using the same identifier here, you ensure compatibility between the tokenizer and the model.\n",
        "\n"
      ],
      "metadata": {
        "id": "f-GHgZyceTU8"
      }
    },
    {
      "cell_type": "code",
      "source": [
        "tokenizer.encode(questions[0],truncation=True,padding=True)"
      ],
      "metadata": {
        "colab": {
          "base_uri": "https://localhost:8080/"
        },
        "id": "wIsz2HGAbiye",
        "outputId": "f5860a06-bac3-477d-eb93-abe64f548dec"
      },
      "execution_count": 10,
      "outputs": [
        {
          "output_type": "execute_result",
          "data": {
            "text/plain": [
              "[101, 1184, 1110, 22926, 136, 102]"
            ]
          },
          "metadata": {},
          "execution_count": 10
        }
      ]
    },
    {
      "cell_type": "markdown",
      "source": [
        "101 here refers to the special token of bert ['cls'] and 102 for the end"
      ],
      "metadata": {
        "id": "oIWOatIcftyo"
      }
    },
    {
      "cell_type": "markdown",
      "source": [
        "so here padding aand truncation both are true coz when using bert it wants 512 tokens as input but the question barely has 10-15 tokens so we need to add padding and similarly if the question is too big we need to truncate"
      ],
      "metadata": {
        "id": "hDIaK-teb-X6"
      }
    },
    {
      "cell_type": "markdown",
      "source": [
        "\"[cls]<context>[sep]<question>[sep][pad][pad]\" this is how the question is gonna go as the input in the bert model"
      ],
      "metadata": {
        "id": "_PcwOq-JgMDR"
      }
    },
    {
      "cell_type": "markdown",
      "source": [
        "## Encoding the Question with Tokenizer\n",
        "\n",
        "This line uses the `tokenizer.encode()` method to prepare the first question (stored in the `questions[0]` variable) for the pre-trained model. Here's a breakdown:\n",
        "\n",
        "* **`tokenizer.encode()`**: This method is a core functionality of the tokenizer you loaded earlier. It takes text data as input and performs the following actions:\n",
        "    * **Word Segmentation:** Breaks down the question into tokens (words or sub-word units) based on the model's vocabulary.\n",
        "    * **Adding Special Tokens:** May add special tokens (e.g., start/end of sentence markers) if required by the model.\n",
        "    * **Numerical Representation:** Converts each token into a numerical value (id) based on the model's vocabulary.\n",
        "    * **Output:** Returns a list of these numerical token ids representing the question.\n",
        "* **`questions[0]`**: This refers to the first element in a list named `questions`. It's assumed this list\n"
      ],
      "metadata": {
        "id": "NCe3mmEHekbm"
      }
    },
    {
      "cell_type": "code",
      "source": [
        "from transformers import pipeline"
      ],
      "metadata": {
        "id": "lGxOV5OLaszA"
      },
      "execution_count": 11,
      "outputs": []
    },
    {
      "cell_type": "code",
      "source": [
        "nlp=pipeline('question-answering',model=model,tokenizer=tokenizer)"
      ],
      "metadata": {
        "id": "8Y26ZIQDgiK3"
      },
      "execution_count": 12,
      "outputs": []
    },
    {
      "cell_type": "markdown",
      "source": [
        "## Creating a Question-Answering Pipeline\n",
        "\n",
        "This line creates a question-answering pipeline using the `pipeline()` function from the `transformers` library. This pipeline simplifies the process of using your pre-trained model for question-answering tasks.\n",
        "\n",
        "* **`nlp =`**: Assigns the created pipeline to the variable `nlp`.\n",
        "* **`pipeline('question-answering', ...)`**: This part creates the pipeline.\n",
        "    * **`'question-answering'`**: This argument specifies the type of pipeline to create. In this case, you're building a pipeline for question-answering tasks.\n",
        "    * **`model=model`**: This argument assigns the pre-trained question-answering model (`model`) you loaded earlier to the pipeline.\n",
        "    * **`tokenizer=tokenizer`**: This argument assigns the tokenizer (`tokenizer`) you loaded earlier to the pipeline.\n",
        "\n",
        "**Benefits of Using a Pipeline:**\n",
        "\n",
        "The pipeline provides a convenient and high-level interface for interacting with your question-answering model. It abstracts away the underlying complexities of model inputs and outputs, allowing you to focus on feeding questions and retrieving answers.\n",
        "\n",
        "\n",
        "\n"
      ],
      "metadata": {
        "id": "6PU4f-fSesuU"
      }
    },
    {
      "cell_type": "code",
      "source": [
        "nlp({\n",
        "    'question':questions[0],\n",
        "    'context': context\n",
        "})"
      ],
      "metadata": {
        "colab": {
          "base_uri": "https://localhost:8080/"
        },
        "id": "MujcAbUXg2xT",
        "outputId": "848dee54-c4d4-409a-e424-21035a883baf"
      },
      "execution_count": 13,
      "outputs": [
        {
          "output_type": "execute_result",
          "data": {
            "text/plain": [
              "{'score': 0.268502414226532,\n",
              " 'start': 1254,\n",
              " 'end': 1297,\n",
              " 'answer': 'Pokémon has an uncommon ownership structure'}"
            ]
          },
          "metadata": {},
          "execution_count": 13
        }
      ]
    },
    {
      "cell_type": "code",
      "source": [
        "nlp({\n",
        "    'question':questions[1],\n",
        "    'context': context\n",
        "})"
      ],
      "metadata": {
        "colab": {
          "base_uri": "https://localhost:8080/"
        },
        "id": "6y2I4r5Mg9HU",
        "outputId": "5e69fe1e-53e6-4049-93cc-3f0d85e8164d"
      },
      "execution_count": 14,
      "outputs": [
        {
          "output_type": "execute_result",
          "data": {
            "text/plain": [
              "{'score': 0.9904259443283081, 'start': 4086, 'end': 4094, 'answer': 'children'}"
            ]
          },
          "metadata": {},
          "execution_count": 14
        }
      ]
    },
    {
      "cell_type": "code",
      "source": [
        "nlp({\n",
        "    'question':questions[2],\n",
        "    'context': context\n",
        "})"
      ],
      "metadata": {
        "colab": {
          "base_uri": "https://localhost:8080/"
        },
        "id": "mdDcgDC2hQ62",
        "outputId": "2a80883b-cf98-4b31-8022-ab362e1761e2"
      },
      "execution_count": 15,
      "outputs": [
        {
          "output_type": "execute_result",
          "data": {
            "text/plain": [
              "{'score': 0.9954031109809875,\n",
              " 'start': 544,\n",
              " 'end': 558,\n",
              " 'answer': 'Satoshi Tajiri'}"
            ]
          },
          "metadata": {},
          "execution_count": 15
        }
      ]
    },
    {
      "cell_type": "code",
      "source": [
        "nlp({\n",
        "    'question':questions[3],\n",
        "    'context': context\n",
        "})"
      ],
      "metadata": {
        "id": "8jQ_kVsAhZ0I",
        "colab": {
          "base_uri": "https://localhost:8080/"
        },
        "outputId": "a0100579-d20c-480c-ffe6-9b16628a2ad0"
      },
      "execution_count": 16,
      "outputs": [
        {
          "output_type": "execute_result",
          "data": {
            "text/plain": [
              "{'score': 0.19736699759960175, 'start': 601, 'end': 605, 'answer': '1996'}"
            ]
          },
          "metadata": {},
          "execution_count": 16
        }
      ]
    },
    {
      "cell_type": "code",
      "source": [
        "nlp({\n",
        "    'question':questions[4],\n",
        "    'context': context\n",
        "})"
      ],
      "metadata": {
        "colab": {
          "base_uri": "https://localhost:8080/"
        },
        "id": "qdUZadc6amvX",
        "outputId": "468b37d8-9cfe-44ea-c1f3-39194c5eda7f"
      },
      "execution_count": 17,
      "outputs": [
        {
          "output_type": "execute_result",
          "data": {
            "text/plain": [
              "{'score': 0.0005179457366466522,\n",
              " 'start': 5382,\n",
              " 'end': 5403,\n",
              " 'answer': \"Tajiri's neighborhood\"}"
            ]
          },
          "metadata": {},
          "execution_count": 17
        }
      ]
    },
    {
      "cell_type": "code",
      "source": [],
      "metadata": {
        "id": "UudDXcclan6m"
      },
      "execution_count": null,
      "outputs": []
    }
  ]
}